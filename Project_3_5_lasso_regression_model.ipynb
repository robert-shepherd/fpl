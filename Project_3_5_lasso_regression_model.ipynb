{
  "nbformat": 4,
  "nbformat_minor": 0,
  "metadata": {
    "colab": {
      "name": "Project: 3.5 lasso regression model.ipynb",
      "provenance": [],
      "collapsed_sections": [],
      "toc_visible": true,
      "authorship_tag": "ABX9TyM8PXUqqYYQTnFEsZhlzuzV",
      "include_colab_link": true
    },
    "kernelspec": {
      "name": "python3",
      "display_name": "Python 3"
    }
  },
  "cells": [
    {
      "cell_type": "markdown",
      "metadata": {
        "id": "view-in-github",
        "colab_type": "text"
      },
      "source": [
        "<a href=\"https://colab.research.google.com/github/robert-shepherd/fpl/blob/main/Project_3_5_lasso_regression_model.ipynb\" target=\"_parent\"><img src=\"https://colab.research.google.com/assets/colab-badge.svg\" alt=\"Open In Colab\"/></a>"
      ]
    },
    {
      "cell_type": "markdown",
      "metadata": {
        "id": "tkJ2DLs2yQu_"
      },
      "source": [
        "# Lasso regression model\n",
        "\n",
        "\n",
        "---\n",
        "\n",
        "The purpose of this script is to develop the lasso regression model\n",
        "\n",
        "Data sources:\n",
        "* Data post feature engineering:  https://raw.githubusercontent.com/robert-shepherd/fpl/main/fpl_features.csv\n"
      ]
    },
    {
      "cell_type": "code",
      "metadata": {
        "id": "50lDqPe7yBam"
      },
      "source": [
        "# Loading libraries\n",
        "import pandas as pd\n",
        "import pickle\n",
        "import numpy as np\n",
        "import scipy.stats as stats\n",
        "from sklearn import model_selection\n",
        "from sklearn.model_selection import train_test_split\n",
        "from sklearn.model_selection import GridSearchCV\n",
        "from sklearn.model_selection import cross_val_score\n",
        "from sklearn.model_selection import cross_validate\n",
        "import matplotlib.pyplot as plt\n",
        "import seaborn as sns\n",
        "from google.colab import files\n",
        "\n",
        "# Model libraries\n",
        "from sklearn.linear_model import Lasso\n",
        "\n",
        "# Import measures\n",
        "from sklearn.metrics import explained_variance_score\n",
        "from sklearn.metrics import mean_squared_error"
      ],
      "execution_count": null,
      "outputs": []
    },
    {
      "cell_type": "markdown",
      "metadata": {
        "id": "5mUPgRwozkCm"
      },
      "source": [
        "## Setup"
      ]
    },
    {
      "cell_type": "code",
      "metadata": {
        "colab": {
          "base_uri": "https://localhost:8080/"
        },
        "id": "kZB1tSVOzAfw",
        "outputId": "377ee231-37ac-49c8-efa2-feecbd465149"
      },
      "source": [
        "# Reading in files from static output\n",
        "X_train_url = 'https://raw.githubusercontent.com/robert-shepherd/fpl/main/X_train.csv'\n",
        "X_test_url = 'https://raw.githubusercontent.com/robert-shepherd/fpl/main/X_test.csv'\n",
        "Y_train_url = 'https://raw.githubusercontent.com/robert-shepherd/fpl/main/Y_train.csv'\n",
        "Y_test_url = 'https://raw.githubusercontent.com/robert-shepherd/fpl/main/Y_test.csv'\n",
        "\n",
        "X_train = pd.read_csv(X_train_url)\n",
        "X_test = pd.read_csv(X_test_url)\n",
        "Y_train = pd.read_csv(Y_train_url,squeeze=True)\n",
        "Y_test = pd.read_csv(Y_test_url,squeeze=True)\n",
        "\n",
        "print('X_train      : ',X_train.shape)\n",
        "print('X_test       : ',X_test.shape)\n",
        "print('Y_train      : ',Y_train.shape)\n",
        "print('Y_test       : ',Y_test.shape)"
      ],
      "execution_count": null,
      "outputs": [
        {
          "output_type": "stream",
          "text": [
            "X_train      :  (40388, 40)\n",
            "X_test       :  (10098, 40)\n",
            "Y_train      :  (40388,)\n",
            "Y_test       :  (10098,)\n"
          ],
          "name": "stdout"
        }
      ]
    },
    {
      "cell_type": "code",
      "metadata": {
        "colab": {
          "base_uri": "https://localhost:8080/"
        },
        "id": "OHoBVbTRzSdR",
        "outputId": "9a873d1c-a4d0-40fc-e024-0f7f16806814"
      },
      "source": [
        "# Creating a copy with missing values removed\n",
        "train_na = X_train.isnull().any(axis=1)\n",
        "test_na = X_test.isnull().any(axis=1)\n",
        "\n",
        "X_train_no_na = X_train[~train_na]\n",
        "Y_train_no_na = Y_train[~train_na]\n",
        "\n",
        "X_test_no_na = X_test[~test_na]\n",
        "Y_test_no_na = Y_test[~test_na]\n",
        "\n",
        "print('X_train_no_na      : ',X_train_no_na.shape)\n",
        "print('X_test_no_na       : ',X_test_no_na.shape)\n",
        "print('Y_train_no_na      : ',Y_train_no_na.shape)\n",
        "print('Y_test_no_na       : ',Y_test_no_na.shape)"
      ],
      "execution_count": null,
      "outputs": [
        {
          "output_type": "stream",
          "text": [
            "X_train_no_na      :  (32698, 40)\n",
            "X_test_no_na       :  (8195, 40)\n",
            "Y_train_no_na      :  (32698,)\n",
            "Y_test_no_na       :  (8195,)\n"
          ],
          "name": "stdout"
        }
      ]
    },
    {
      "cell_type": "markdown",
      "metadata": {
        "id": "ZDqHBE7dVy-F"
      },
      "source": [
        "## Default Lasso regression model\n"
      ]
    },
    {
      "cell_type": "code",
      "metadata": {
        "id": "fhapiy-OWKXT",
        "colab": {
          "base_uri": "https://localhost:8080/"
        },
        "outputId": "548c6bef-b2ba-4ec6-d802-b74d7b57ad70"
      },
      "source": [
        "# Training default Lasso model\n",
        "lasso = Lasso(normalize=True)\n",
        "lasso.fit(X_train_no_na,Y_train_no_na)"
      ],
      "execution_count": null,
      "outputs": [
        {
          "output_type": "execute_result",
          "data": {
            "text/plain": [
              "Lasso(alpha=1.0, copy_X=True, fit_intercept=True, max_iter=1000, normalize=True,\n",
              "      positive=False, precompute=False, random_state=None, selection='cyclic',\n",
              "      tol=0.0001, warm_start=False)"
            ]
          },
          "metadata": {
            "tags": []
          },
          "execution_count": 4
        }
      ]
    },
    {
      "cell_type": "code",
      "metadata": {
        "id": "XiztBd2RV7fu"
      },
      "source": [
        "# Predicting on test\n",
        "y_pred = lasso.predict(X_test_no_na)"
      ],
      "execution_count": null,
      "outputs": []
    },
    {
      "cell_type": "code",
      "metadata": {
        "colab": {
          "base_uri": "https://localhost:8080/"
        },
        "id": "fIkaRsqSWnpz",
        "outputId": "44696571-2788-4b3b-f0a3-91e11b47a5d1"
      },
      "source": [
        "# Checking min/max prediction\n",
        "min_pred = min(y_pred)\n",
        "max_pred = max(y_pred)\n",
        "print(\"Min prediction: {}\".format(min_pred))\n",
        "print(\"Max prediction: {}\".format(max_pred))"
      ],
      "execution_count": null,
      "outputs": [
        {
          "output_type": "stream",
          "text": [
            "Min prediction: 1.4166921524252247\n",
            "Max prediction: 1.4166921524252247\n"
          ],
          "name": "stdout"
        }
      ]
    },
    {
      "cell_type": "code",
      "metadata": {
        "colab": {
          "base_uri": "https://localhost:8080/",
          "height": 374
        },
        "id": "PDDNKwSIj3Fd",
        "outputId": "d8ff4985-e286-48f2-b925-b1402bb2405e"
      },
      "source": [
        "# Plot coefficients\n",
        "lasso_coef = lasso.coef_\n",
        "df_columns = X_test_no_na.columns\n",
        "\n",
        "plt.plot(range(len(df_columns)), lasso_coef)\n",
        "plt.xticks(range(len(df_columns)), df_columns.values, rotation=60)\n",
        "#plt.margins(0.02)\n",
        "plt.show()\n",
        "\n",
        "# All coefficients set to 0"
      ],
      "execution_count": null,
      "outputs": [
        {
          "output_type": "display_data",
          "data": {
            "image/png": "[encoded data removed]",
            "text/plain": [
              "<Figure size 432x288 with 1 Axes>"
            ]
          },
          "metadata": {
            "tags": [],
            "needs_background": "light"
          }
        }
      ]
    },
    {
      "cell_type": "markdown",
      "metadata": {
        "id": "jJDjF3Zfjd9_"
      },
      "source": [
        "## Evaluating bias/variance tradeoff\n"
      ]
    },
    {
      "cell_type": "code",
      "metadata": {
        "id": "Jq1v2PByeY5K",
        "colab": {
          "base_uri": "https://localhost:8080/"
        },
        "outputId": "1c47cafe-b124-4db4-f5c1-1e37410fafe3"
      },
      "source": [
        "# Checking 10 fold cross validation error\n",
        "MSE_CV_scores = cross_val_score(lasso, X_train_no_na, Y_train_no_na, cv=10, \n",
        "                       scoring='neg_mean_squared_error',\n",
        "                       n_jobs=-1)\n",
        "\n",
        "cv_mse = abs(MSE_CV_scores.mean())\n",
        "\n",
        "print(\"CV MSE: {}\".format(cv_mse))"
      ],
      "execution_count": null,
      "outputs": [
        {
          "output_type": "stream",
          "text": [
            "CV MSE: 6.527112984750157\n"
          ],
          "name": "stdout"
        }
      ]
    },
    {
      "cell_type": "code",
      "metadata": {
        "colab": {
          "base_uri": "https://localhost:8080/"
        },
        "id": "tvr04FyWjkAs",
        "outputId": "32da6174-3623-48d9-eeff-7e8bb1596bfe"
      },
      "source": [
        "# Checking test MSE\n",
        "test_mse = mean_squared_error(Y_test_no_na, y_pred)\n",
        "print(\"Test MSE: {}\".format(test_mse))"
      ],
      "execution_count": null,
      "outputs": [
        {
          "output_type": "stream",
          "text": [
            "Test MSE: 6.366269097205641\n"
          ],
          "name": "stdout"
        }
      ]
    },
    {
      "cell_type": "code",
      "metadata": {
        "colab": {
          "base_uri": "https://localhost:8080/"
        },
        "id": "U8nYY3S8jnhM",
        "outputId": "ad9a305c-68eb-4b6a-de7f-c3f3d4f4422d"
      },
      "source": [
        "# Checking training MSE\n",
        "y_pred_train = lasso.predict(X_train_no_na)\n",
        "train_mse = mean_squared_error(Y_train_no_na, y_pred_train)\n",
        "print(\"Train MSE: {}\".format(train_mse))"
      ],
      "execution_count": null,
      "outputs": [
        {
          "output_type": "stream",
          "text": [
            "Train MSE: 6.526318717450802\n"
          ],
          "name": "stdout"
        }
      ]
    },
    {
      "cell_type": "markdown",
      "metadata": {
        "id": "KyjJTNRCmu8x"
      },
      "source": [
        "## Optimising alpha selection"
      ]
    },
    {
      "cell_type": "code",
      "metadata": {
        "id": "r2w1tfXgmx98"
      },
      "source": [
        "# Setup\n",
        "lasso = Lasso(normalize=True)\n",
        "\n",
        "alpha_space = np.logspace(-4, 0, 50)\n",
        "lasso_scores = []\n",
        "lasso_scores_std = []"
      ],
      "execution_count": null,
      "outputs": []
    },
    {
      "cell_type": "code",
      "metadata": {
        "id": "lmTQwYcmm4vm"
      },
      "source": [
        "# Compute scores over range of alphas\n",
        "for alpha in alpha_space:\n",
        "\n",
        "    # Specify the alpha value to use: lasso.alpha\n",
        "    lasso.alpha = alpha\n",
        "    \n",
        "    # Perform 10-fold CV: lasso_cv_scores\n",
        "    lasso_cv_scores = cross_val_score(lasso,X_train_no_na,Y_train_no_na,cv=8)\n",
        "    \n",
        "    # Append the mean of lasso_cv_scores to lasso_scores\n",
        "    lasso_scores.append(np.mean(lasso_cv_scores))\n",
        "    \n",
        "    # Append the std of lasso_cv_scores to lasso_scores_std\n",
        "    lasso_scores_std.append(np.std(lasso_cv_scores))"
      ],
      "execution_count": null,
      "outputs": []
    },
    {
      "cell_type": "code",
      "metadata": {
        "colab": {
          "base_uri": "https://localhost:8080/",
          "height": 470
        },
        "id": "QmV4GhtQJ5aI",
        "outputId": "e8f5225e-573b-446e-c65c-7fc2d182dc54"
      },
      "source": [
        "# Display plot\n",
        "sns.set()\n",
        "fig = plt.figure(figsize=(8,7))\n",
        "ax = fig.add_subplot(1,1,1)\n",
        "plt.plot(alpha_space, lasso_scores)\n",
        "\n",
        "std_error = lasso_scores_std / np.sqrt(10)\n",
        "\n",
        "ax.fill_between(alpha_space, lasso_scores + std_error, lasso_scores - std_error, alpha=0.2)\n",
        "ax.set_ylabel('CV Score +/- Std Error')\n",
        "ax.set_xlabel('L1 penalty')\n",
        "ax.axhline(np.max(lasso_scores), linestyle='--', color='.5')\n",
        "ax.set_xlim([alpha_space[0], alpha_space[-1]])\n",
        "ax.set_xscale('log')\n",
        "plt.title(\"Cross-validation R2 for different L1 penalties\")\n",
        "plt.show()"
      ],
      "execution_count": null,
      "outputs": [
        {
          "output_type": "display_data",
          "data": {
            "image/png": "[encoded data removed]",
            "text/plain": [
              "<Figure size 576x504 with 1 Axes>"
            ]
          },
          "metadata": {
            "tags": []
          }
        }
      ]
    },
    {
      "cell_type": "code",
      "metadata": {
        "colab": {
          "base_uri": "https://localhost:8080/"
        },
        "id": "LlEU8-hmtCaE",
        "outputId": "5c1449e6-dc1e-45b4-f230-7a179fb26d3d"
      },
      "source": [
        "# Using grid search to identify the optimum alpha level\n",
        "lasso = Lasso(normalize=True)\n",
        "param_grid = {'alpha': alpha_space}\n",
        "\n",
        "gm_cv = GridSearchCV(estimator=lasso, param_grid=param_grid, cv=8)\n",
        "\n",
        "gm_cv.fit(X_train_no_na,Y_train_no_na)\n",
        "\n",
        "y_pred = gm_cv.predict(X_test_no_na)\n",
        "r2 = gm_cv.score(X_test_no_na, Y_test_no_na)\n",
        "mse = mean_squared_error(Y_test_no_na, y_pred)\n",
        "print(\"Lasso best CV score: {}\".format(gm_cv.best_score_))\n",
        "print(\"Tuned Lasso l1 ratio: {}\".format(gm_cv.best_params_))\n",
        "print(\"Tuned Lasso R squared: {}\".format(r2))\n",
        "print(\"Tuned Lasso MSE: {}\".format(mse))\n"
      ],
      "execution_count": null,
      "outputs": [
        {
          "output_type": "stream",
          "text": [
            "Lasso best CV score: 0.2778368492695011\n",
            "Tuned Lasso l1 ratio: {'alpha': 0.0001}\n",
            "Tuned Lasso R squared: 0.2513763887143101\n",
            "Tuned Lasso MSE: 4.765933864316354\n"
          ],
          "name": "stdout"
        }
      ]
    },
    {
      "cell_type": "markdown",
      "metadata": {
        "id": "HCZ9UJkD-Bfe"
      },
      "source": [
        "## Understanding feature importance"
      ]
    },
    {
      "cell_type": "code",
      "metadata": {
        "colab": {
          "base_uri": "https://localhost:8080/"
        },
        "id": "aRlfy_iiGSac",
        "outputId": "d8fa3c53-de70-43be-f252-abb6c1926efb"
      },
      "source": [
        "# Training Lasso model\n",
        "lasso = Lasso(normalize=True,alpha=0.0001)\n",
        "lasso.fit(X_train_no_na,Y_train_no_na)"
      ],
      "execution_count": null,
      "outputs": [
        {
          "output_type": "execute_result",
          "data": {
            "text/plain": [
              "Lasso(alpha=0.0001, copy_X=True, fit_intercept=True, max_iter=1000,\n",
              "      normalize=True, positive=False, precompute=False, random_state=None,\n",
              "      selection='cyclic', tol=0.0001, warm_start=False)"
            ]
          },
          "metadata": {
            "tags": []
          },
          "execution_count": 16
        }
      ]
    },
    {
      "cell_type": "code",
      "metadata": {
        "id": "1L7fkSjKNVnN"
      },
      "source": [
        "# Checking which variables have the largest coefficients\n",
        "lasso_coef = lasso.coef_\n",
        "df_columns = X_test_no_na.columns\n",
        "\n",
        "coef_df = pd.DataFrame(df_columns,columns=['feature'])\n",
        "coef_df['coefficients'] = lasso_coef\n",
        "coef_df['coefficients_abs'] = abs(lasso_coef)"
      ],
      "execution_count": null,
      "outputs": []
    },
    {
      "cell_type": "code",
      "metadata": {
        "colab": {
          "base_uri": "https://localhost:8080/",
          "height": 536
        },
        "id": "_W-7CvISOz3m",
        "outputId": "960e0f8c-bf0b-46e7-a0c7-24975122daf6"
      },
      "source": [
        "# Checking which coefficients were reduced to 0\n",
        "coef_df[coef_df.coefficients==0]"
      ],
      "execution_count": null,
      "outputs": [
        {
          "output_type": "execute_result",
          "data": {
            "text/html": [
              "<div>\n",
              "<style scoped>\n",
              "    .dataframe tbody tr th:only-of-type {\n",
              "        vertical-align: middle;\n",
              "    }\n",
              "\n",
              "    .dataframe tbody tr th {\n",
              "        vertical-align: top;\n",
              "    }\n",
              "\n",
              "    .dataframe thead th {\n",
              "        text-align: right;\n",
              "    }\n",
              "</style>\n",
              "<table border=\"1\" class=\"dataframe\">\n",
              "  <thead>\n",
              "    <tr style=\"text-align: right;\">\n",
              "      <th></th>\n",
              "      <th>feature</th>\n",
              "      <th>coefficients</th>\n",
              "      <th>coefficients_abs</th>\n",
              "    </tr>\n",
              "  </thead>\n",
              "  <tbody>\n",
              "    <tr>\n",
              "      <th>8</th>\n",
              "      <td>goals_scored_lag</td>\n",
              "      <td>-0.0</td>\n",
              "      <td>0.0</td>\n",
              "    </tr>\n",
              "    <tr>\n",
              "      <th>9</th>\n",
              "      <td>goals_scored_rolling</td>\n",
              "      <td>0.0</td>\n",
              "      <td>0.0</td>\n",
              "    </tr>\n",
              "    <tr>\n",
              "      <th>10</th>\n",
              "      <td>assists_lag</td>\n",
              "      <td>-0.0</td>\n",
              "      <td>0.0</td>\n",
              "    </tr>\n",
              "    <tr>\n",
              "      <th>12</th>\n",
              "      <td>clean_sheets_lag</td>\n",
              "      <td>0.0</td>\n",
              "      <td>0.0</td>\n",
              "    </tr>\n",
              "    <tr>\n",
              "      <th>14</th>\n",
              "      <td>goals_conceded_lag</td>\n",
              "      <td>-0.0</td>\n",
              "      <td>0.0</td>\n",
              "    </tr>\n",
              "    <tr>\n",
              "      <th>15</th>\n",
              "      <td>goals_conceded_rolling</td>\n",
              "      <td>-0.0</td>\n",
              "      <td>0.0</td>\n",
              "    </tr>\n",
              "    <tr>\n",
              "      <th>19</th>\n",
              "      <td>cards_rolling</td>\n",
              "      <td>-0.0</td>\n",
              "      <td>0.0</td>\n",
              "    </tr>\n",
              "    <tr>\n",
              "      <th>22</th>\n",
              "      <td>bps_lag</td>\n",
              "      <td>0.0</td>\n",
              "      <td>0.0</td>\n",
              "    </tr>\n",
              "    <tr>\n",
              "      <th>23</th>\n",
              "      <td>bps_rolling</td>\n",
              "      <td>0.0</td>\n",
              "      <td>0.0</td>\n",
              "    </tr>\n",
              "    <tr>\n",
              "      <th>24</th>\n",
              "      <td>influence_lag</td>\n",
              "      <td>-0.0</td>\n",
              "      <td>0.0</td>\n",
              "    </tr>\n",
              "    <tr>\n",
              "      <th>25</th>\n",
              "      <td>influence_rolling</td>\n",
              "      <td>0.0</td>\n",
              "      <td>0.0</td>\n",
              "    </tr>\n",
              "    <tr>\n",
              "      <th>26</th>\n",
              "      <td>creativity_lag</td>\n",
              "      <td>0.0</td>\n",
              "      <td>0.0</td>\n",
              "    </tr>\n",
              "    <tr>\n",
              "      <th>30</th>\n",
              "      <td>selected_lag</td>\n",
              "      <td>0.0</td>\n",
              "      <td>0.0</td>\n",
              "    </tr>\n",
              "    <tr>\n",
              "      <th>32</th>\n",
              "      <td>transfers_in_ratio_lag</td>\n",
              "      <td>-0.0</td>\n",
              "      <td>0.0</td>\n",
              "    </tr>\n",
              "    <tr>\n",
              "      <th>33</th>\n",
              "      <td>transfers_in_ratio_rolling</td>\n",
              "      <td>-0.0</td>\n",
              "      <td>0.0</td>\n",
              "    </tr>\n",
              "    <tr>\n",
              "      <th>34</th>\n",
              "      <td>transfers_out_ratio_lag</td>\n",
              "      <td>0.0</td>\n",
              "      <td>0.0</td>\n",
              "    </tr>\n",
              "    <tr>\n",
              "      <th>39</th>\n",
              "      <td>position_MID</td>\n",
              "      <td>0.0</td>\n",
              "      <td>0.0</td>\n",
              "    </tr>\n",
              "  </tbody>\n",
              "</table>\n",
              "</div>"
            ],
            "text/plain": [
              "                       feature  coefficients  coefficients_abs\n",
              "8             goals_scored_lag          -0.0               0.0\n",
              "9         goals_scored_rolling           0.0               0.0\n",
              "10                 assists_lag          -0.0               0.0\n",
              "12            clean_sheets_lag           0.0               0.0\n",
              "14          goals_conceded_lag          -0.0               0.0\n",
              "15      goals_conceded_rolling          -0.0               0.0\n",
              "19               cards_rolling          -0.0               0.0\n",
              "22                     bps_lag           0.0               0.0\n",
              "23                 bps_rolling           0.0               0.0\n",
              "24               influence_lag          -0.0               0.0\n",
              "25           influence_rolling           0.0               0.0\n",
              "26              creativity_lag           0.0               0.0\n",
              "30                selected_lag           0.0               0.0\n",
              "32      transfers_in_ratio_lag          -0.0               0.0\n",
              "33  transfers_in_ratio_rolling          -0.0               0.0\n",
              "34     transfers_out_ratio_lag           0.0               0.0\n",
              "39                position_MID           0.0               0.0"
            ]
          },
          "metadata": {
            "tags": []
          },
          "execution_count": 18
        }
      ]
    },
    {
      "cell_type": "code",
      "metadata": {
        "colab": {
          "base_uri": "https://localhost:8080/"
        },
        "id": "6iZLU60pGRHm",
        "outputId": "d9c7758c-2c5d-4af8-cad5-7d71a6d27fea"
      },
      "source": [
        "# Checking which coefficients were reduced to 0\n",
        "removed_variables = df_columns[lasso_coef == 0]\n",
        "print(removed_variables)"
      ],
      "execution_count": null,
      "outputs": [
        {
          "output_type": "stream",
          "text": [
            "Index(['goals_scored_lag', 'goals_scored_rolling', 'assists_lag',\n",
            "       'clean_sheets_lag', 'goals_conceded_lag', 'goals_conceded_rolling',\n",
            "       'cards_rolling', 'bps_lag', 'bps_rolling', 'influence_lag',\n",
            "       'influence_rolling', 'creativity_lag', 'selected_lag',\n",
            "       'transfers_in_ratio_lag', 'transfers_in_ratio_rolling',\n",
            "       'transfers_out_ratio_lag', 'position_MID'],\n",
            "      dtype='object')\n"
          ],
          "name": "stdout"
        }
      ]
    },
    {
      "cell_type": "code",
      "metadata": {
        "colab": {
          "base_uri": "https://localhost:8080/"
        },
        "id": "DxQVwyvmHbRX",
        "outputId": "b01fbb1c-06fe-45a3-a596-fdb8dfec0552"
      },
      "source": [
        "# Viewing kept variables\n",
        "kept_variables = df_columns[abs(lasso_coef) > 0]\n",
        "print(kept_variables)"
      ],
      "execution_count": null,
      "outputs": [
        {
          "output_type": "stream",
          "text": [
            "Index(['opponent_strength', 'points_lag_1', 'points_lag_2', 'points_lag_3',\n",
            "       'points_lag_4', 'points_lag_5', 'minutes_lag', 'minutes_rolling',\n",
            "       'assists_rolling', 'clean_sheets_rolling', 'saves_lag', 'saves_rolling',\n",
            "       'cards_lag', 'bonus_lag', 'bonus_rolling', 'creativity_rolling',\n",
            "       'threat_lag', 'threat_rolling', 'selected_rolling',\n",
            "       'transfers_out_ratio_rolling', 'was_home_True', 'position_FWD',\n",
            "       'position_GKP'],\n",
            "      dtype='object')\n"
          ],
          "name": "stdout"
        }
      ]
    },
    {
      "cell_type": "code",
      "metadata": {
        "colab": {
          "base_uri": "https://localhost:8080/",
          "height": 622
        },
        "id": "NSx6COPiIZEf",
        "outputId": "44e6c253-a948-4a63-e236-56a7a12c868b"
      },
      "source": [
        "# Checking which variables have the largest coefficients\n",
        "coef_df[abs(lasso_coef)>0].sort_values(by=['coefficients_abs'],ascending=False).head(20)"
      ],
      "execution_count": null,
      "outputs": [
        {
          "output_type": "execute_result",
          "data": {
            "text/html": [
              "<div>\n",
              "<style scoped>\n",
              "    .dataframe tbody tr th:only-of-type {\n",
              "        vertical-align: middle;\n",
              "    }\n",
              "\n",
              "    .dataframe tbody tr th {\n",
              "        vertical-align: top;\n",
              "    }\n",
              "\n",
              "    .dataframe thead th {\n",
              "        text-align: right;\n",
              "    }\n",
              "</style>\n",
              "<table border=\"1\" class=\"dataframe\">\n",
              "  <thead>\n",
              "    <tr style=\"text-align: right;\">\n",
              "      <th></th>\n",
              "      <th>feature</th>\n",
              "      <th>coefficients</th>\n",
              "      <th>coefficients_abs</th>\n",
              "    </tr>\n",
              "  </thead>\n",
              "  <tbody>\n",
              "    <tr>\n",
              "      <th>11</th>\n",
              "      <td>assists_rolling</td>\n",
              "      <td>0.319230</td>\n",
              "      <td>0.319230</td>\n",
              "    </tr>\n",
              "    <tr>\n",
              "      <th>13</th>\n",
              "      <td>clean_sheets_rolling</td>\n",
              "      <td>0.221141</td>\n",
              "      <td>0.221141</td>\n",
              "    </tr>\n",
              "    <tr>\n",
              "      <th>17</th>\n",
              "      <td>saves_rolling</td>\n",
              "      <td>0.213351</td>\n",
              "      <td>0.213351</td>\n",
              "    </tr>\n",
              "    <tr>\n",
              "      <th>0</th>\n",
              "      <td>opponent_strength</td>\n",
              "      <td>-0.195222</td>\n",
              "      <td>0.195222</td>\n",
              "    </tr>\n",
              "    <tr>\n",
              "      <th>36</th>\n",
              "      <td>was_home_True</td>\n",
              "      <td>0.185691</td>\n",
              "      <td>0.185691</td>\n",
              "    </tr>\n",
              "    <tr>\n",
              "      <th>18</th>\n",
              "      <td>cards_lag</td>\n",
              "      <td>-0.132064</td>\n",
              "      <td>0.132064</td>\n",
              "    </tr>\n",
              "    <tr>\n",
              "      <th>35</th>\n",
              "      <td>transfers_out_ratio_rolling</td>\n",
              "      <td>0.118174</td>\n",
              "      <td>0.118174</td>\n",
              "    </tr>\n",
              "    <tr>\n",
              "      <th>38</th>\n",
              "      <td>position_GKP</td>\n",
              "      <td>-0.084546</td>\n",
              "      <td>0.084546</td>\n",
              "    </tr>\n",
              "    <tr>\n",
              "      <th>1</th>\n",
              "      <td>points_lag_1</td>\n",
              "      <td>0.049371</td>\n",
              "      <td>0.049371</td>\n",
              "    </tr>\n",
              "    <tr>\n",
              "      <th>21</th>\n",
              "      <td>bonus_rolling</td>\n",
              "      <td>-0.044904</td>\n",
              "      <td>0.044904</td>\n",
              "    </tr>\n",
              "    <tr>\n",
              "      <th>2</th>\n",
              "      <td>points_lag_2</td>\n",
              "      <td>0.037909</td>\n",
              "      <td>0.037909</td>\n",
              "    </tr>\n",
              "    <tr>\n",
              "      <th>3</th>\n",
              "      <td>points_lag_3</td>\n",
              "      <td>0.030510</td>\n",
              "      <td>0.030510</td>\n",
              "    </tr>\n",
              "    <tr>\n",
              "      <th>29</th>\n",
              "      <td>threat_rolling</td>\n",
              "      <td>0.023204</td>\n",
              "      <td>0.023204</td>\n",
              "    </tr>\n",
              "    <tr>\n",
              "      <th>20</th>\n",
              "      <td>bonus_lag</td>\n",
              "      <td>-0.020579</td>\n",
              "      <td>0.020579</td>\n",
              "    </tr>\n",
              "    <tr>\n",
              "      <th>6</th>\n",
              "      <td>minutes_lag</td>\n",
              "      <td>0.012311</td>\n",
              "      <td>0.012311</td>\n",
              "    </tr>\n",
              "    <tr>\n",
              "      <th>27</th>\n",
              "      <td>creativity_rolling</td>\n",
              "      <td>0.011703</td>\n",
              "      <td>0.011703</td>\n",
              "    </tr>\n",
              "    <tr>\n",
              "      <th>7</th>\n",
              "      <td>minutes_rolling</td>\n",
              "      <td>0.007035</td>\n",
              "      <td>0.007035</td>\n",
              "    </tr>\n",
              "    <tr>\n",
              "      <th>16</th>\n",
              "      <td>saves_lag</td>\n",
              "      <td>0.005311</td>\n",
              "      <td>0.005311</td>\n",
              "    </tr>\n",
              "    <tr>\n",
              "      <th>37</th>\n",
              "      <td>position_FWD</td>\n",
              "      <td>0.003572</td>\n",
              "      <td>0.003572</td>\n",
              "    </tr>\n",
              "    <tr>\n",
              "      <th>4</th>\n",
              "      <td>points_lag_4</td>\n",
              "      <td>0.002880</td>\n",
              "      <td>0.002880</td>\n",
              "    </tr>\n",
              "  </tbody>\n",
              "</table>\n",
              "</div>"
            ],
            "text/plain": [
              "                        feature  coefficients  coefficients_abs\n",
              "11              assists_rolling      0.319230          0.319230\n",
              "13         clean_sheets_rolling      0.221141          0.221141\n",
              "17                saves_rolling      0.213351          0.213351\n",
              "0             opponent_strength     -0.195222          0.195222\n",
              "36                was_home_True      0.185691          0.185691\n",
              "18                    cards_lag     -0.132064          0.132064\n",
              "35  transfers_out_ratio_rolling      0.118174          0.118174\n",
              "38                 position_GKP     -0.084546          0.084546\n",
              "1                  points_lag_1      0.049371          0.049371\n",
              "21                bonus_rolling     -0.044904          0.044904\n",
              "2                  points_lag_2      0.037909          0.037909\n",
              "3                  points_lag_3      0.030510          0.030510\n",
              "29               threat_rolling      0.023204          0.023204\n",
              "20                    bonus_lag     -0.020579          0.020579\n",
              "6                   minutes_lag      0.012311          0.012311\n",
              "27           creativity_rolling      0.011703          0.011703\n",
              "7               minutes_rolling      0.007035          0.007035\n",
              "16                    saves_lag      0.005311          0.005311\n",
              "37                 position_FWD      0.003572          0.003572\n",
              "4                  points_lag_4      0.002880          0.002880"
            ]
          },
          "metadata": {
            "tags": []
          },
          "execution_count": 21
        }
      ]
    },
    {
      "cell_type": "code",
      "metadata": {
        "id": "QHbJg4lkzacZ"
      },
      "source": [
        "# Setting default Seaborn style\n",
        "sns.set(rc={'figure.figsize':(10,8)})"
      ],
      "execution_count": null,
      "outputs": []
    },
    {
      "cell_type": "code",
      "metadata": {
        "colab": {
          "base_uri": "https://localhost:8080/",
          "height": 564
        },
        "id": "sJahQKLmN36q",
        "outputId": "f982cc87-d6e7-4d43-85bd-8d4c8cc822f9"
      },
      "source": [
        "# Plot coefficients\n",
        "top_10_features = coef_df.sort_values(by=['coefficients_abs'],ascending=False).head(10)\n",
        "plt.figure(figsize=(16,7))\n",
        "plt.xticks(rotation=45) \n",
        "sns.barplot(x='feature', y='coefficients',data=top_10_features)\n",
        "plt.title('Lasso regression coefficients by feature (top 10)')\n",
        "plt.show()"
      ],
      "execution_count": null,
      "outputs": [
        {
          "output_type": "display_data",
          "data": {
            "image/png": "[encoded data removed]",
            "text/plain": [
              "<Figure size 1152x504 with 1 Axes>"
            ]
          },
          "metadata": {
            "tags": []
          }
        }
      ]
    }
  ]
}