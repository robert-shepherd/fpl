{
  "nbformat": 4,
  "nbformat_minor": 0,
  "metadata": {
    "colab": {
      "name": "Project: 3.9 xgboost model.ipynb",
      "provenance": [],
      "toc_visible": true,
      "authorship_tag": "ABX9TyMyOtsL4X7jttDog8+X8/rA",
      "include_colab_link": true
    },
    "kernelspec": {
      "name": "python3",
      "display_name": "Python 3"
    }
  },
  "cells": [
    {
      "cell_type": "markdown",
      "metadata": {
        "id": "view-in-github",
        "colab_type": "text"
      },
      "source": [
        "<a href=\"https://colab.research.google.com/github/robert-shepherd/fpl/blob/main/Project_3_9_xgboost_model.ipynb\" target=\"_parent\"><img src=\"https://colab.research.google.com/assets/colab-badge.svg\" alt=\"Open In Colab\"/></a>"
      ]
    },
    {
      "cell_type": "markdown",
      "metadata": {
        "id": "tkJ2DLs2yQu_"
      },
      "source": [
        "# XGBoost model\n",
        "\n",
        "\n",
        "---\n",
        "\n",
        "The purpose of this script is to further develop the xgboost model\n",
        "\n",
        "Data sources:\n",
        "* Data post feature engineering:  https://raw.githubusercontent.com/robert-shepherd/fpl/main/fpl_features.csv\n",
        "\n",
        "Output:\n"
      ]
    },
    {
      "cell_type": "code",
      "metadata": {
        "id": "50lDqPe7yBam"
      },
      "source": [
        "# Loading libraries\n",
        "import pandas as pd\n",
        "import pickle\n",
        "import numpy as np\n",
        "import scipy.stats as stats\n",
        "from sklearn import model_selection\n",
        "from sklearn.model_selection import train_test_split\n",
        "from sklearn.model_selection import cross_val_score\n",
        "from sklearn.model_selection import cross_validate\n",
        "from sklearn.model_selection import GridSearchCV\n",
        "import matplotlib.pyplot as plt\n",
        "import seaborn as sns\n",
        "from google.colab import files\n",
        "\n",
        "# Model libraries\n",
        "import xgboost as xgb\n",
        "from xgboost import XGBRegressor\n",
        "\n",
        "# Import measures\n",
        "from sklearn.metrics import explained_variance_score\n",
        "from sklearn.metrics import mean_squared_error"
      ],
      "execution_count": null,
      "outputs": []
    },
    {
      "cell_type": "markdown",
      "metadata": {
        "id": "5mUPgRwozkCm"
      },
      "source": [
        "## Setup"
      ]
    },
    {
      "cell_type": "code",
      "metadata": {
        "colab": {
          "base_uri": "https://localhost:8080/"
        },
        "id": "kZB1tSVOzAfw",
        "outputId": "7739232a-6e1b-41a7-cf58-ba8c7b3e554c"
      },
      "source": [
        "# Reading in files from static output\n",
        "X_train_url = 'https://raw.githubusercontent.com/robert-shepherd/fpl/main/X_train.csv'\n",
        "X_test_url = 'https://raw.githubusercontent.com/robert-shepherd/fpl/main/X_test.csv'\n",
        "Y_train_url = 'https://raw.githubusercontent.com/robert-shepherd/fpl/main/Y_train.csv'\n",
        "Y_test_url = 'https://raw.githubusercontent.com/robert-shepherd/fpl/main/Y_test.csv'\n",
        "\n",
        "X_train = pd.read_csv(X_train_url)\n",
        "X_test = pd.read_csv(X_test_url)\n",
        "Y_train = pd.read_csv(Y_train_url,squeeze=True)\n",
        "Y_test = pd.read_csv(Y_test_url,squeeze=True)\n",
        "\n",
        "print('X_train      : ',X_train.shape)\n",
        "print('X_test       : ',X_test.shape)\n",
        "print('Y_train      : ',Y_train.shape)\n",
        "print('Y_test       : ',Y_test.shape)"
      ],
      "execution_count": null,
      "outputs": [
        {
          "output_type": "stream",
          "text": [
            "X_train      :  (40388, 40)\n",
            "X_test       :  (10098, 40)\n",
            "Y_train      :  (40388,)\n",
            "Y_test       :  (10098,)\n"
          ],
          "name": "stdout"
        }
      ]
    },
    {
      "cell_type": "code",
      "metadata": {
        "colab": {
          "base_uri": "https://localhost:8080/"
        },
        "id": "OHoBVbTRzSdR",
        "outputId": "74d314dc-3cc5-4680-e035-4ccccad16f26"
      },
      "source": [
        "# Creating a copy with missing values removed\n",
        "train_na = X_train.isnull().any(axis=1)\n",
        "test_na = X_test.isnull().any(axis=1)\n",
        "\n",
        "X_train_no_na = X_train[~train_na]\n",
        "Y_train_no_na = Y_train[~train_na]\n",
        "\n",
        "X_test_no_na = X_test[~test_na]\n",
        "Y_test_no_na = Y_test[~test_na]\n",
        "\n",
        "print('X_train_no_na      : ',X_train_no_na.shape)\n",
        "print('X_test_no_na       : ',X_test_no_na.shape)\n",
        "print('Y_train_no_na      : ',Y_train_no_na.shape)\n",
        "print('Y_test_no_na       : ',Y_test_no_na.shape)"
      ],
      "execution_count": null,
      "outputs": [
        {
          "output_type": "stream",
          "text": [
            "X_train_no_na      :  (32698, 40)\n",
            "X_test_no_na       :  (8195, 40)\n",
            "Y_train_no_na      :  (32698,)\n",
            "Y_test_no_na       :  (8195,)\n"
          ],
          "name": "stdout"
        }
      ]
    },
    {
      "cell_type": "markdown",
      "metadata": {
        "id": "LB9kaE9RARXQ"
      },
      "source": [
        "## XGBoost model (excluding NA)"
      ]
    },
    {
      "cell_type": "code",
      "metadata": {
        "id": "Uum1CspxAR9e"
      },
      "source": [
        "# Training XGBoost model\n",
        "xgb_model = xgb.XGBRegressor(objective ='reg:squarederror', seed=42)\n",
        "xgb_model_fitted = xgb_model.fit(X_train_no_na,Y_train_no_na)"
      ],
      "execution_count": null,
      "outputs": []
    },
    {
      "cell_type": "code",
      "metadata": {
        "id": "N8-olcN4AXHS"
      },
      "source": [
        "# Predicting on test\n",
        "y_pred_xgb = xgb_model_fitted.predict(X_test_no_na)"
      ],
      "execution_count": null,
      "outputs": []
    },
    {
      "cell_type": "code",
      "metadata": {
        "colab": {
          "base_uri": "https://localhost:8080/"
        },
        "id": "jCtlWFt_AZuk",
        "outputId": "c4e20731-c489-4cff-ff86-9f1671b25d0e"
      },
      "source": [
        "# Checking min/max prediction\n",
        "min_pred = min(y_pred_xgb)\n",
        "max_pred = max(y_pred_xgb)\n",
        "print(\"Min prediction: {}\".format(min_pred))\n",
        "print(\"Max prediction: {}\".format(max_pred))"
      ],
      "execution_count": null,
      "outputs": [
        {
          "output_type": "stream",
          "text": [
            "Min prediction: -0.16728878021240234\n",
            "Max prediction: 7.809183597564697\n"
          ],
          "name": "stdout"
        }
      ]
    },
    {
      "cell_type": "code",
      "metadata": {
        "colab": {
          "base_uri": "https://localhost:8080/"
        },
        "id": "c2LS1NwRAcqB",
        "outputId": "6e9b0e50-bd43-4725-f476-330b22b7b4bc"
      },
      "source": [
        "# Checking MSE\n",
        "mse = mean_squared_error(Y_test_no_na, y_pred_xgb)\n",
        "print(\"Test MSE: {}\".format(mse))"
      ],
      "execution_count": null,
      "outputs": [
        {
          "output_type": "stream",
          "text": [
            "Test MSE: 4.683557448284513\n"
          ],
          "name": "stdout"
        }
      ]
    },
    {
      "cell_type": "code",
      "metadata": {
        "colab": {
          "base_uri": "https://localhost:8080/"
        },
        "id": "fpJncIsO4IBA",
        "outputId": "e080554c-131d-481a-871c-58f5d985a74c"
      },
      "source": [
        "# Checking R2\n",
        "r2 = xgb_model_fitted.score(X_test_no_na, Y_test_no_na)\n",
        "print(\"Test R2: {}\".format(r2))"
      ],
      "execution_count": null,
      "outputs": [
        {
          "output_type": "stream",
          "text": [
            "Test R2: 0.26431591574305424\n"
          ],
          "name": "stdout"
        }
      ]
    },
    {
      "cell_type": "code",
      "metadata": {
        "colab": {
          "base_uri": "https://localhost:8080/",
          "height": 622
        },
        "id": "n918ZfkjLEo5",
        "outputId": "7125f94d-00b9-47d1-bda9-e7bdc880100c"
      },
      "source": [
        "# Checking top 20 feature importances\n",
        "df_columns = X_train_no_na.columns\n",
        "feature_importance = xgb_model.feature_importances_\n",
        "\n",
        "feature_df = pd.DataFrame(df_columns,columns=['feature'])\n",
        "feature_df['feature_importance'] = feature_importance\n",
        "\n",
        "feature_df[feature_importance > 0].sort_values(by=['feature_importance']\n",
        "                                               ,ascending=False).head(20)"
      ],
      "execution_count": null,
      "outputs": [
        {
          "output_type": "execute_result",
          "data": {
            "text/html": [
              "<div>\n",
              "<style scoped>\n",
              "    .dataframe tbody tr th:only-of-type {\n",
              "        vertical-align: middle;\n",
              "    }\n",
              "\n",
              "    .dataframe tbody tr th {\n",
              "        vertical-align: top;\n",
              "    }\n",
              "\n",
              "    .dataframe thead th {\n",
              "        text-align: right;\n",
              "    }\n",
              "</style>\n",
              "<table border=\"1\" class=\"dataframe\">\n",
              "  <thead>\n",
              "    <tr style=\"text-align: right;\">\n",
              "      <th></th>\n",
              "      <th>feature</th>\n",
              "      <th>feature_importance</th>\n",
              "    </tr>\n",
              "  </thead>\n",
              "  <tbody>\n",
              "    <tr>\n",
              "      <th>6</th>\n",
              "      <td>minutes_lag</td>\n",
              "      <td>0.481087</td>\n",
              "    </tr>\n",
              "    <tr>\n",
              "      <th>7</th>\n",
              "      <td>minutes_rolling</td>\n",
              "      <td>0.096414</td>\n",
              "    </tr>\n",
              "    <tr>\n",
              "      <th>25</th>\n",
              "      <td>influence_rolling</td>\n",
              "      <td>0.093965</td>\n",
              "    </tr>\n",
              "    <tr>\n",
              "      <th>1</th>\n",
              "      <td>points_lag_1</td>\n",
              "      <td>0.063496</td>\n",
              "    </tr>\n",
              "    <tr>\n",
              "      <th>30</th>\n",
              "      <td>selected_lag</td>\n",
              "      <td>0.036014</td>\n",
              "    </tr>\n",
              "    <tr>\n",
              "      <th>29</th>\n",
              "      <td>threat_rolling</td>\n",
              "      <td>0.030636</td>\n",
              "    </tr>\n",
              "    <tr>\n",
              "      <th>23</th>\n",
              "      <td>bps_rolling</td>\n",
              "      <td>0.018471</td>\n",
              "    </tr>\n",
              "    <tr>\n",
              "      <th>0</th>\n",
              "      <td>opponent_strength</td>\n",
              "      <td>0.013176</td>\n",
              "    </tr>\n",
              "    <tr>\n",
              "      <th>2</th>\n",
              "      <td>points_lag_2</td>\n",
              "      <td>0.010591</td>\n",
              "    </tr>\n",
              "    <tr>\n",
              "      <th>36</th>\n",
              "      <td>was_home_True</td>\n",
              "      <td>0.010204</td>\n",
              "    </tr>\n",
              "    <tr>\n",
              "      <th>31</th>\n",
              "      <td>selected_rolling</td>\n",
              "      <td>0.009764</td>\n",
              "    </tr>\n",
              "    <tr>\n",
              "      <th>24</th>\n",
              "      <td>influence_lag</td>\n",
              "      <td>0.008951</td>\n",
              "    </tr>\n",
              "    <tr>\n",
              "      <th>15</th>\n",
              "      <td>goals_conceded_rolling</td>\n",
              "      <td>0.008053</td>\n",
              "    </tr>\n",
              "    <tr>\n",
              "      <th>16</th>\n",
              "      <td>saves_lag</td>\n",
              "      <td>0.007727</td>\n",
              "    </tr>\n",
              "    <tr>\n",
              "      <th>9</th>\n",
              "      <td>goals_scored_rolling</td>\n",
              "      <td>0.007065</td>\n",
              "    </tr>\n",
              "    <tr>\n",
              "      <th>10</th>\n",
              "      <td>assists_lag</td>\n",
              "      <td>0.006904</td>\n",
              "    </tr>\n",
              "    <tr>\n",
              "      <th>20</th>\n",
              "      <td>bonus_lag</td>\n",
              "      <td>0.006684</td>\n",
              "    </tr>\n",
              "    <tr>\n",
              "      <th>13</th>\n",
              "      <td>clean_sheets_rolling</td>\n",
              "      <td>0.006309</td>\n",
              "    </tr>\n",
              "    <tr>\n",
              "      <th>17</th>\n",
              "      <td>saves_rolling</td>\n",
              "      <td>0.006111</td>\n",
              "    </tr>\n",
              "    <tr>\n",
              "      <th>3</th>\n",
              "      <td>points_lag_3</td>\n",
              "      <td>0.006025</td>\n",
              "    </tr>\n",
              "  </tbody>\n",
              "</table>\n",
              "</div>"
            ],
            "text/plain": [
              "                   feature  feature_importance\n",
              "6              minutes_lag            0.481087\n",
              "7          minutes_rolling            0.096414\n",
              "25       influence_rolling            0.093965\n",
              "1             points_lag_1            0.063496\n",
              "30            selected_lag            0.036014\n",
              "29          threat_rolling            0.030636\n",
              "23             bps_rolling            0.018471\n",
              "0        opponent_strength            0.013176\n",
              "2             points_lag_2            0.010591\n",
              "36           was_home_True            0.010204\n",
              "31        selected_rolling            0.009764\n",
              "24           influence_lag            0.008951\n",
              "15  goals_conceded_rolling            0.008053\n",
              "16               saves_lag            0.007727\n",
              "9     goals_scored_rolling            0.007065\n",
              "10             assists_lag            0.006904\n",
              "20               bonus_lag            0.006684\n",
              "13    clean_sheets_rolling            0.006309\n",
              "17           saves_rolling            0.006111\n",
              "3             points_lag_3            0.006025"
            ]
          },
          "metadata": {
            "tags": []
          },
          "execution_count": 19
        }
      ]
    },
    {
      "cell_type": "code",
      "metadata": {
        "colab": {
          "base_uri": "https://localhost:8080/",
          "height": 686
        },
        "id": "FjCfGbSULmvU",
        "outputId": "c0e2e55b-d1b5-4646-c189-1a7393c4c32b"
      },
      "source": [
        "# Plotting top 20 features\n",
        "significant_features = feature_df[feature_importance > 0].sort_values(by=['feature_importance'],ascending=False)\n",
        "\n",
        "top_20_features = significant_features.head(20)\n",
        "\n",
        "plt.figure(figsize=(20,10))\n",
        "sns.barplot(x=\"feature\", y=\"feature_importance\", data=top_20_features)\n",
        "plt.title(\"Feature importance for the XGBoost model (top 20 features)\")\n",
        "\n",
        "\n",
        "plt.xlabel(\"\")\n",
        "plt.ylabel(\"Feature importance\")\n",
        "plt.xticks(rotation=45)\n",
        "plt.show()"
      ],
      "execution_count": null,
      "outputs": [
        {
          "output_type": "display_data",
          "data": {
            "image/png": "[encoded data removed]",
            "text/plain": [
              "<Figure size 1440x720 with 1 Axes>"
            ]
          },
          "metadata": {
            "tags": [],
            "needs_background": "light"
          }
        }
      ]
    },
    {
      "cell_type": "markdown",
      "metadata": {
        "id": "kVNE4MZ3AkYz"
      },
      "source": [
        "## XGBoost model (including NA)"
      ]
    },
    {
      "cell_type": "code",
      "metadata": {
        "id": "ydIBWtRbAmSb"
      },
      "source": [
        "# Training XGBoost model\n",
        "xgb_model = xgb.XGBRegressor(objective ='reg:squarederror', seed=42)\n",
        "xgb_model_fitted = xgb_model.fit(X_train,Y_train)"
      ],
      "execution_count": null,
      "outputs": []
    },
    {
      "cell_type": "code",
      "metadata": {
        "id": "lPe5lgBfAvsx"
      },
      "source": [
        "# Predicting on test\n",
        "y_pred_xgb = xgb_model_fitted.predict(X_test)"
      ],
      "execution_count": null,
      "outputs": []
    },
    {
      "cell_type": "code",
      "metadata": {
        "colab": {
          "base_uri": "https://localhost:8080/"
        },
        "id": "rfcn2jJAAyNU",
        "outputId": "3782fcb5-46d9-4ac7-94e5-cf2b45de2572"
      },
      "source": [
        "# Checking min/max prediction\n",
        "min_pred = min(y_pred_xgb)\n",
        "max_pred = max(y_pred_xgb)\n",
        "print(\"Min prediction: {}\".format(min_pred))\n",
        "print(\"Max prediction: {}\".format(max_pred))"
      ],
      "execution_count": null,
      "outputs": [
        {
          "output_type": "stream",
          "text": [
            "Min prediction: -0.3334428071975708\n",
            "Max prediction: 9.305795669555664\n"
          ],
          "name": "stdout"
        }
      ]
    },
    {
      "cell_type": "code",
      "metadata": {
        "colab": {
          "base_uri": "https://localhost:8080/"
        },
        "id": "OR_J0kZfA2EC",
        "outputId": "ec4bf92b-f857-4c24-fe2b-565519650103"
      },
      "source": [
        "# Checking MSE\n",
        "mse = mean_squared_error(Y_test, y_pred_xgb)\n",
        "print(\"Test MSE: {}\".format(mse))"
      ],
      "execution_count": null,
      "outputs": [
        {
          "output_type": "stream",
          "text": [
            "Test MSE: 4.829962747156658\n"
          ],
          "name": "stdout"
        }
      ]
    },
    {
      "cell_type": "code",
      "metadata": {
        "colab": {
          "base_uri": "https://localhost:8080/"
        },
        "id": "dlJZTnqO4_Ak",
        "outputId": "87ab6e52-c67d-4aa7-cf4b-3a2db0292dbe"
      },
      "source": [
        "# Checking R2\n",
        "r2 = xgb_model_fitted.score(X_test_no_na, Y_test_no_na)\n",
        "print(\"Test R2: {}\".format(r2))"
      ],
      "execution_count": null,
      "outputs": [
        {
          "output_type": "stream",
          "text": [
            "Test R2: 0.26594580037511917\n"
          ],
          "name": "stdout"
        }
      ]
    },
    {
      "cell_type": "markdown",
      "metadata": {
        "id": "8peCirSpQBMi"
      },
      "source": [
        "## Evaluating bias/variance tradeoff"
      ]
    },
    {
      "cell_type": "code",
      "metadata": {
        "colab": {
          "base_uri": "https://localhost:8080/"
        },
        "id": "aYPaPNM3QJDO",
        "outputId": "bfb8be54-fab1-4300-c4ef-ec8a2a4c9ea7"
      },
      "source": [
        "# Checking 10 fold cross validation error\n",
        "MSE_CV_scores = cross_val_score(xgb_model_fitted, X_train, Y_train, cv=10, \n",
        "                       scoring='neg_mean_squared_error',\n",
        "                       n_jobs=-1)\n",
        "\n",
        "cv_mse = abs(MSE_CV_scores.mean())\n",
        "\n",
        "print(\"CV MSE: {}\".format(cv_mse))"
      ],
      "execution_count": null,
      "outputs": [
        {
          "output_type": "stream",
          "text": [
            "CV MSE: 4.675247518764015\n"
          ],
          "name": "stdout"
        }
      ]
    },
    {
      "cell_type": "code",
      "metadata": {
        "colab": {
          "base_uri": "https://localhost:8080/"
        },
        "id": "b-xTPg3yQbkH",
        "outputId": "7ec613ad-b66a-4416-c67a-5b04bd0f7046"
      },
      "source": [
        "# Checking training MSE\n",
        "y_pred_xgb_train = xgb_model_fitted.predict(X_train)\n",
        "train_mse = mean_squared_error(Y_train, y_pred_xgb_train)\n",
        "print(\"Train MSE: {}\".format(train_mse))"
      ],
      "execution_count": null,
      "outputs": [
        {
          "output_type": "stream",
          "text": [
            "Train MSE: 4.455371334239104\n"
          ],
          "name": "stdout"
        }
      ]
    },
    {
      "cell_type": "code",
      "metadata": {
        "colab": {
          "base_uri": "https://localhost:8080/",
          "height": 266
        },
        "id": "ONBJwFh7Q4q0",
        "outputId": "b092bf7e-9641-4790-ff3f-2a94a0f88674"
      },
      "source": [
        "# Visualising test residuals\n",
        "residuals = Y_test - y_pred_xgb\n",
        "residuals.hist()\n",
        "plt.show()  "
      ],
      "execution_count": null,
      "outputs": [
        {
          "output_type": "display_data",
          "data": {
            "image/png": "[encoded data removed]",
            "text/plain": [
              "<Figure size 432x288 with 1 Axes>"
            ]
          },
          "metadata": {
            "tags": [],
            "needs_background": "light"
          }
        }
      ]
    },
    {
      "cell_type": "markdown",
      "metadata": {
        "id": "637Itapg68b8"
      },
      "source": [
        "## Hyperparameter optimisation"
      ]
    },
    {
      "cell_type": "code",
      "metadata": {
        "colab": {
          "base_uri": "https://localhost:8080/"
        },
        "id": "RmIXBmqf6_8p",
        "outputId": "894cc93e-e7a7-410d-c9a3-83e6504f3d21"
      },
      "source": [
        "# Tuning max depth and min child weight\n",
        "\n",
        "# Creating a grid search\n",
        "param_grid1 = {\n",
        " 'max_depth':range(3,10,2),\n",
        " 'min_child_weight':range(1,6,2)\n",
        "}\n",
        "\n",
        "# Instantiate the regressor\n",
        "xgb_model = xgb.XGBRegressor(objective ='reg:squarederror', seed=42)\n",
        "\n",
        "# Create grid search\n",
        "gsearch1 = GridSearchCV(param_grid = param_grid1, estimator = xgb_model, scoring = \"neg_mean_squared_error\"\n",
        ",cv = 4, verbose = 1)\n",
        "\n",
        "# Fit to the data\n",
        "gsearch1.fit(X_train,Y_train)\n",
        "\n",
        "# Print the best parameters and lowest MSE\n",
        "print(\"Best parameters found: \", gsearch1.best_params_)\n",
        "print(\"Lowest MSE found: \", gsearch1.best_score_)"
      ],
      "execution_count": null,
      "outputs": [
        {
          "output_type": "stream",
          "text": [
            "Fitting 4 folds for each of 12 candidates, totalling 48 fits\n"
          ],
          "name": "stdout"
        },
        {
          "output_type": "stream",
          "text": [
            "[Parallel(n_jobs=1)]: Using backend SequentialBackend with 1 concurrent workers.\n",
            "[Parallel(n_jobs=1)]: Done  48 out of  48 | elapsed:  9.4min finished\n"
          ],
          "name": "stderr"
        },
        {
          "output_type": "stream",
          "text": [
            "Best parameters found:  {'max_depth': 3, 'min_child_weight': 5}\n",
            "Lowest MSE found:  -4.675082474820867\n"
          ],
          "name": "stdout"
        }
      ]
    },
    {
      "cell_type": "code",
      "metadata": {
        "colab": {
          "base_uri": "https://localhost:8080/"
        },
        "id": "ucMK00gBzK2L",
        "outputId": "8525228f-0478-4677-c5b9-84dc798d5fba"
      },
      "source": [
        "# Checking values either side of identified optimal values\n",
        "\n",
        "# Creating a grid search\n",
        "param_grid2 = {\n",
        " 'max_depth':[2,3,4],\n",
        " 'min_child_weight':[4,5,6]\n",
        "}\n",
        "\n",
        "# Instantiate the regressor\n",
        "xgb_model = xgb.XGBRegressor(objective ='reg:squarederror', seed=42)\n",
        "\n",
        "# Create grid search\n",
        "gsearch2 = GridSearchCV(param_grid = param_grid2, estimator = xgb_model, scoring = \"neg_mean_squared_error\"\n",
        ",cv = 4, verbose = 1)\n",
        "\n",
        "# Fit to the data\n",
        "gsearch2.fit(X_train,Y_train)\n",
        "\n",
        "# Print the best parameters and lowest MSE\n",
        "print(\"Best parameters found: \", gsearch2.best_params_)\n",
        "print(\"Lowest MSE found: \", gsearch2.best_score_)"
      ],
      "execution_count": null,
      "outputs": [
        {
          "output_type": "stream",
          "text": [
            "Fitting 4 folds for each of 9 candidates, totalling 36 fits\n"
          ],
          "name": "stdout"
        },
        {
          "output_type": "stream",
          "text": [
            "[Parallel(n_jobs=1)]: Using backend SequentialBackend with 1 concurrent workers.\n",
            "[Parallel(n_jobs=1)]: Done  36 out of  36 | elapsed:  3.4min finished\n"
          ],
          "name": "stderr"
        },
        {
          "output_type": "stream",
          "text": [
            "Best parameters found:  {'max_depth': 3, 'min_child_weight': 6}\n",
            "Lowest MSE found:  -4.670750002826969\n"
          ],
          "name": "stdout"
        }
      ]
    },
    {
      "cell_type": "code",
      "metadata": {
        "colab": {
          "base_uri": "https://localhost:8080/"
        },
        "id": "U9KYhEkC1w0d",
        "outputId": "6a3587c4-11f3-45c8-ce42-84a27df0bc18"
      },
      "source": [
        "# Tuning gamma parameter\n",
        "\n",
        "param_grid3 = {\n",
        " 'gamma':[i/10.0 for i in range(0,5)]\n",
        "}\n",
        "\n",
        "# Instantiate the regressor\n",
        "xgb_model = xgb.XGBRegressor(objective ='reg:squarederror', max_depth=3,\n",
        "                             min_child_weight=6, seed=42)\n",
        "\n",
        "# Create grid search\n",
        "gsearch3 = GridSearchCV(param_grid = param_grid3, estimator = xgb_model, scoring = \"neg_mean_squared_error\"\n",
        ",cv = 4, verbose = 1)\n",
        "\n",
        "# Fit to the data\n",
        "gsearch3.fit(X_train,Y_train)\n",
        "\n",
        "# Print the best parameters and lowest MSE\n",
        "print(\"Best parameters found: \", gsearch3.best_params_)\n",
        "print(\"Lowest MSE found: \", gsearch3.best_score_)\n"
      ],
      "execution_count": null,
      "outputs": [
        {
          "output_type": "stream",
          "text": [
            "Fitting 4 folds for each of 5 candidates, totalling 20 fits\n"
          ],
          "name": "stdout"
        },
        {
          "output_type": "stream",
          "text": [
            "[Parallel(n_jobs=1)]: Using backend SequentialBackend with 1 concurrent workers.\n",
            "[Parallel(n_jobs=1)]: Done  20 out of  20 | elapsed:  1.9min finished\n"
          ],
          "name": "stderr"
        },
        {
          "output_type": "stream",
          "text": [
            "Best parameters found:  {'gamma': 0.0}\n",
            "Lowest MSE found:  -4.670750002826969\n"
          ],
          "name": "stdout"
        }
      ]
    },
    {
      "cell_type": "code",
      "metadata": {
        "colab": {
          "base_uri": "https://localhost:8080/"
        },
        "id": "G97F1MEr4xIN",
        "outputId": "33488e18-649c-4c7e-c202-2465c999a512"
      },
      "source": [
        "# Tuning subsample and colsample_bytree parameters\n",
        "\n",
        "param_grid4 = {\n",
        " 'subsample':[i/10.0 for i in range(6,10)],\n",
        " 'colsample_bytree':[i/10.0 for i in range(6,10)]\n",
        "}\n",
        "\n",
        "# Instantiate the regressor\n",
        "xgb_model = xgb.XGBRegressor(objective ='reg:squarederror', max_depth=3,\n",
        "                             min_child_weight=6, gamma=0, seed=42)\n",
        "\n",
        "# Create grid search\n",
        "gsearch4 = GridSearchCV(param_grid = param_grid4, estimator = xgb_model, scoring = \"neg_mean_squared_error\"\n",
        ",cv = 4, verbose = 1)\n",
        "\n",
        "# Fit to the data\n",
        "gsearch4.fit(X_train,Y_train)\n",
        "\n",
        "# Print the best parameters and lowest MSE\n",
        "print(\"Best parameters found: \", gsearch4.best_params_)\n",
        "print(\"Lowest MSE found: \", gsearch4.best_score_)\n"
      ],
      "execution_count": null,
      "outputs": [
        {
          "output_type": "stream",
          "text": [
            "Fitting 4 folds for each of 16 candidates, totalling 64 fits\n"
          ],
          "name": "stdout"
        },
        {
          "output_type": "stream",
          "text": [
            "[Parallel(n_jobs=1)]: Using backend SequentialBackend with 1 concurrent workers.\n",
            "[Parallel(n_jobs=1)]: Done  64 out of  64 | elapsed:  5.7min finished\n"
          ],
          "name": "stderr"
        },
        {
          "output_type": "stream",
          "text": [
            "Best parameters found:  {'colsample_bytree': 0.6, 'subsample': 0.8}\n",
            "Lowest MSE found:  -4.669212613372318\n"
          ],
          "name": "stdout"
        }
      ]
    },
    {
      "cell_type": "code",
      "metadata": {
        "colab": {
          "base_uri": "https://localhost:8080/"
        },
        "id": "vfdKWCMG7ZCD",
        "outputId": "381e873d-e6c5-49d2-b15d-20b1a61bacd9"
      },
      "source": [
        "# Trying values close to identified optimal values\n",
        "param_grid5 = {\n",
        " 'subsample':[i/100.0 for i in range(70,90,5)],\n",
        " 'colsample_bytree':[i/100.0 for i in range(50,70,5)]\n",
        "}\n",
        "\n",
        "# Instantiate the regressor\n",
        "xgb_model = xgb.XGBRegressor(objective ='reg:squarederror', max_depth=3,\n",
        "                             min_child_weight=6, gamma=0, seed=42)\n",
        "\n",
        "# Create grid search\n",
        "gsearch5 = GridSearchCV(param_grid = param_grid5, estimator = xgb_model, scoring = \"neg_mean_squared_error\"\n",
        ",cv = 4, verbose = 1)\n",
        "\n",
        "# Fit to the data\n",
        "gsearch5.fit(X_train,Y_train)\n",
        "\n",
        "# Print the best parameters and lowest MSE\n",
        "print(\"Best parameters found: \", gsearch5.best_params_)\n",
        "print(\"Lowest MSE found: \", gsearch5.best_score_)\n"
      ],
      "execution_count": null,
      "outputs": [
        {
          "output_type": "stream",
          "text": [
            "Fitting 4 folds for each of 16 candidates, totalling 64 fits\n"
          ],
          "name": "stdout"
        },
        {
          "output_type": "stream",
          "text": [
            "[Parallel(n_jobs=1)]: Using backend SequentialBackend with 1 concurrent workers.\n",
            "[Parallel(n_jobs=1)]: Done  64 out of  64 | elapsed:  4.7min finished\n"
          ],
          "name": "stderr"
        },
        {
          "output_type": "stream",
          "text": [
            "Best parameters found:  {'colsample_bytree': 0.65, 'subsample': 0.85}\n",
            "Lowest MSE found:  -4.666895128213336\n"
          ],
          "name": "stdout"
        }
      ]
    },
    {
      "cell_type": "code",
      "metadata": {
        "colab": {
          "base_uri": "https://localhost:8080/"
        },
        "id": "rvcOq3ha63ic",
        "outputId": "f057e215-6d2a-41b4-d8df-d87baa08be71"
      },
      "source": [
        "# Tuning regularisation parameter\n",
        "\n",
        "# Trying values close to identified optimal values\n",
        "param_grid6 = {\n",
        " 'reg_alpha':[1e-5, 1e-2, 0.1, 1, 100]\n",
        "}\n",
        "\n",
        "# Instantiate the regressor\n",
        "xgb_model = xgb.XGBRegressor(objective ='reg:squarederror', max_depth=3,\n",
        "                             min_child_weight=6, gamma=0,\n",
        "                             subsample=0.85, colsample_bytree=0.65, seed=42)\n",
        "\n",
        "# Create grid search\n",
        "gsearch6 = GridSearchCV(param_grid = param_grid6, estimator = xgb_model, scoring = \"neg_mean_squared_error\"\n",
        ",cv = 4, verbose = 1)\n",
        "\n",
        "# Fit to the data\n",
        "gsearch6.fit(X_train,Y_train)\n",
        "\n",
        "# Print the best parameters and lowest MSE\n",
        "print(\"Best parameters found: \", gsearch6.best_params_)\n",
        "print(\"Lowest MSE found: \", gsearch6.best_score_)\n"
      ],
      "execution_count": null,
      "outputs": [
        {
          "output_type": "stream",
          "text": [
            "Fitting 4 folds for each of 5 candidates, totalling 20 fits\n"
          ],
          "name": "stdout"
        },
        {
          "output_type": "stream",
          "text": [
            "[Parallel(n_jobs=1)]: Using backend SequentialBackend with 1 concurrent workers.\n",
            "[Parallel(n_jobs=1)]: Done  20 out of  20 | elapsed:  1.5min finished\n"
          ],
          "name": "stderr"
        },
        {
          "output_type": "stream",
          "text": [
            "Best parameters found:  {'reg_alpha': 1e-05}\n",
            "Lowest MSE found:  -4.666895128671952\n"
          ],
          "name": "stdout"
        }
      ]
    },
    {
      "cell_type": "code",
      "metadata": {
        "colab": {
          "base_uri": "https://localhost:8080/"
        },
        "id": "nXv3K7L5-I7I",
        "outputId": "b493a0ff-42b1-44c0-f337-b0d262073a8c"
      },
      "source": [
        "# Tuning regularisation parameter\n",
        "\n",
        "# Trying values close to identified optimal values\n",
        "param_grid7 = {\n",
        " 'reg_alpha':[1e-6, 1e-5, 1e-4, 1e-3]\n",
        "}\n",
        "\n",
        "# Instantiate the regressor\n",
        "xgb_model = xgb.XGBRegressor(objective ='reg:squarederror', max_depth=3,\n",
        "                             min_child_weight=6, gamma=0,\n",
        "                             subsample=0.85, colsample_bytree=0.65, seed=42)\n",
        "\n",
        "# Create grid search\n",
        "gsearch7 = GridSearchCV(param_grid = param_grid7, estimator = xgb_model, scoring = \"neg_mean_squared_error\"\n",
        ",cv = 4, verbose = 1)\n",
        "\n",
        "# Fit to the data\n",
        "gsearch7.fit(X_train,Y_train)\n",
        "\n",
        "# Print the best parameters and lowest MSE\n",
        "print(\"Best parameters found: \", gsearch7.best_params_)\n",
        "print(\"Lowest MSE found: \", gsearch7.best_score_)\n"
      ],
      "execution_count": null,
      "outputs": [
        {
          "output_type": "stream",
          "text": [
            "Fitting 4 folds for each of 4 candidates, totalling 16 fits\n"
          ],
          "name": "stdout"
        },
        {
          "output_type": "stream",
          "text": [
            "[Parallel(n_jobs=1)]: Using backend SequentialBackend with 1 concurrent workers.\n",
            "[Parallel(n_jobs=1)]: Done  16 out of  16 | elapsed:  1.2min finished\n"
          ],
          "name": "stderr"
        },
        {
          "output_type": "stream",
          "text": [
            "Best parameters found:  {'reg_alpha': 0.001}\n",
            "Lowest MSE found:  -4.666894864137182\n"
          ],
          "name": "stdout"
        }
      ]
    },
    {
      "cell_type": "code",
      "metadata": {
        "colab": {
          "base_uri": "https://localhost:8080/"
        },
        "id": "HaxI4pB2AjJY",
        "outputId": "d5710c8e-62bd-4582-b9d0-9e58189def57"
      },
      "source": [
        "# Tuning regularisation parameter\n",
        "\n",
        "# Trying values close to identified optimal values\n",
        "param_grid8 = {\n",
        " 'reg_alpha':[1e-3,3e-3,5e-3,7e-3,9e-3]\n",
        "}\n",
        "\n",
        "# Instantiate the regressor\n",
        "xgb_model = xgb.XGBRegressor(objective ='reg:squarederror', max_depth=3,\n",
        "                             min_child_weight=6, gamma=0,\n",
        "                             subsample=0.85, colsample_bytree=0.65, seed=42)\n",
        "\n",
        "# Create grid search\n",
        "gsearch8 = GridSearchCV(param_grid = param_grid8, estimator = xgb_model, scoring = \"neg_mean_squared_error\"\n",
        ",cv = 4, verbose = 1)\n",
        "\n",
        "# Fit to the data\n",
        "gsearch8.fit(X_train,Y_train)\n",
        "\n",
        "# Print the best parameters and lowest MSE\n",
        "print(\"Best parameters found: \", gsearch8.best_params_)\n",
        "print(\"Lowest MSE found: \", gsearch8.best_score_)\n"
      ],
      "execution_count": null,
      "outputs": [
        {
          "output_type": "stream",
          "text": [
            "Fitting 4 folds for each of 5 candidates, totalling 20 fits\n"
          ],
          "name": "stdout"
        },
        {
          "output_type": "stream",
          "text": [
            "[Parallel(n_jobs=1)]: Using backend SequentialBackend with 1 concurrent workers.\n",
            "[Parallel(n_jobs=1)]: Done  20 out of  20 | elapsed:  1.5min finished\n"
          ],
          "name": "stderr"
        },
        {
          "output_type": "stream",
          "text": [
            "Best parameters found:  {'reg_alpha': 0.005}\n",
            "Lowest MSE found:  -4.666893811962095\n"
          ],
          "name": "stdout"
        }
      ]
    },
    {
      "cell_type": "markdown",
      "metadata": {
        "id": "kX49tKZC_2so"
      },
      "source": [
        "## Evaluating tuned model"
      ]
    },
    {
      "cell_type": "code",
      "metadata": {
        "id": "f74Mq3eGAFiV"
      },
      "source": [
        "# Training the tuned model\n",
        "xgb_model = xgb.XGBRegressor(objective ='reg:squarederror', max_depth=3,\n",
        "                             min_child_weight=6, gamma=0,\n",
        "                             subsample=0.85, colsample_bytree=0.65,\n",
        "                             reg_alpha=0.005, seed=42)\n",
        "xgb_model_fitted = xgb_model.fit(X_train,Y_train)"
      ],
      "execution_count": null,
      "outputs": []
    },
    {
      "cell_type": "code",
      "metadata": {
        "id": "aeuw0nCkAdO3"
      },
      "source": [
        "# Predicting on test\n",
        "y_pred_xgb = xgb_model_fitted.predict(X_test)"
      ],
      "execution_count": null,
      "outputs": []
    },
    {
      "cell_type": "code",
      "metadata": {
        "colab": {
          "base_uri": "https://localhost:8080/"
        },
        "id": "zTmJxUgq_6XT",
        "outputId": "4964ca51-f9d8-42a9-c968-500fca4fdeaf"
      },
      "source": [
        "# Checking 10 fold cross validation error\n",
        "MSE_CV_scores = cross_val_score(xgb_model, X_train, Y_train, cv=10, \n",
        "                       scoring='neg_mean_squared_error',\n",
        "                       n_jobs=-1)\n",
        "\n",
        "cv_mse = abs(MSE_CV_scores.mean())\n",
        "\n",
        "print(\"CV MSE: {}\".format(cv_mse))"
      ],
      "execution_count": null,
      "outputs": [
        {
          "output_type": "stream",
          "text": [
            "CV MSE: 4.678919105735892\n"
          ],
          "name": "stdout"
        }
      ]
    },
    {
      "cell_type": "code",
      "metadata": {
        "colab": {
          "base_uri": "https://localhost:8080/"
        },
        "id": "DBea1QkBA5nR",
        "outputId": "fcc5a8f8-4b0f-4d4d-d24b-781cb573cdc9"
      },
      "source": [
        "# Checking test MSE\n",
        "test_mse = mean_squared_error(Y_test, y_pred_xgb)\n",
        "print(\"Test MSE: {}\".format(test_mse))"
      ],
      "execution_count": null,
      "outputs": [
        {
          "output_type": "stream",
          "text": [
            "Test MSE: 4.837799665042853\n"
          ],
          "name": "stdout"
        }
      ]
    },
    {
      "cell_type": "code",
      "metadata": {
        "colab": {
          "base_uri": "https://localhost:8080/"
        },
        "id": "ODZuzpdtA9qU",
        "outputId": "7825e8a6-65a3-4a2b-e208-1c182e23cf65"
      },
      "source": [
        "# Checking training MSE\n",
        "y_pred_xgb_train = xgb_model_fitted.predict(X_train)\n",
        "train_mse = mean_squared_error(Y_train, y_pred_xgb_train)\n",
        "print(\"Train MSE: {}\".format(train_mse))"
      ],
      "execution_count": null,
      "outputs": [
        {
          "output_type": "stream",
          "text": [
            "Train MSE: 4.459765654203635\n"
          ],
          "name": "stdout"
        }
      ]
    },
    {
      "cell_type": "markdown",
      "metadata": {
        "id": "B5zG6fWUDq9I"
      },
      "source": [
        "## Saving the model"
      ]
    },
    {
      "cell_type": "code",
      "metadata": {
        "colab": {
          "base_uri": "https://localhost:8080/",
          "height": 17
        },
        "id": "0PeTWGAIDL8z",
        "outputId": "e9f07859-f263-4f57-9941-70d56f2eff42"
      },
      "source": [
        "# Saving the model\n",
        "pickle.dump(xgb_model_fitted, open(\"fpl_xgb_model.dat\", \"wb\"))\n",
        "\n",
        "files.download('fpl_xgb_model.dat')"
      ],
      "execution_count": null,
      "outputs": [
        {
          "output_type": "display_data",
          "data": {
            "application/javascript": [
              "\n",
              "    async function download(id, filename, size) {\n",
              "      if (!google.colab.kernel.accessAllowed) {\n",
              "        return;\n",
              "      }\n",
              "      const div = document.createElement('div');\n",
              "      const label = document.createElement('label');\n",
              "      label.textContent = `Downloading \"${filename}\": `;\n",
              "      div.appendChild(label);\n",
              "      const progress = document.createElement('progress');\n",
              "      progress.max = size;\n",
              "      div.appendChild(progress);\n",
              "      document.body.appendChild(div);\n",
              "\n",
              "      const buffers = [];\n",
              "      let downloaded = 0;\n",
              "\n",
              "      const channel = await google.colab.kernel.comms.open(id);\n",
              "      // Send a message to notify the kernel that we're ready.\n",
              "      channel.send({})\n",
              "\n",
              "      for await (const message of channel.messages) {\n",
              "        // Send a message to notify the kernel that we're ready.\n",
              "        channel.send({})\n",
              "        if (message.buffers) {\n",
              "          for (const buffer of message.buffers) {\n",
              "            buffers.push(buffer);\n",
              "            downloaded += buffer.byteLength;\n",
              "            progress.value = downloaded;\n",
              "          }\n",
              "        }\n",
              "      }\n",
              "      const blob = new Blob(buffers, {type: 'application/binary'});\n",
              "      const a = document.createElement('a');\n",
              "      a.href = window.URL.createObjectURL(blob);\n",
              "      a.download = filename;\n",
              "      div.appendChild(a);\n",
              "      a.click();\n",
              "      div.remove();\n",
              "    }\n",
              "  "
            ],
            "text/plain": [
              "<IPython.core.display.Javascript object>"
            ]
          },
          "metadata": {
            "tags": []
          }
        },
        {
          "output_type": "display_data",
          "data": {
            "application/javascript": [
              "download(\"download_2148f741-4d56-4f53-ae81-b2d69476c0f9\", \"fpl_xgb_model.dat\", 68861)"
            ],
            "text/plain": [
              "<IPython.core.display.Javascript object>"
            ]
          },
          "metadata": {
            "tags": []
          }
        }
      ]
    },
    {
      "cell_type": "code",
      "metadata": {
        "colab": {
          "base_uri": "https://localhost:8080/",
          "height": 17
        },
        "id": "l7MEgb7mEO-0",
        "outputId": "db78bec4-a0e8-449b-bffb-a885a8bc198d"
      },
      "source": [
        "# Saving a list of the variables used to train the model\n",
        "model_variables = pd.DataFrame(X_train.columns)\n",
        "\n",
        "# Downloading dataset\n",
        "model_variables.to_csv('fpl_xgb_model_variables.csv',index=False,header=False) \n",
        "files.download('fpl_xgb_model_variables.csv')"
      ],
      "execution_count": null,
      "outputs": [
        {
          "output_type": "display_data",
          "data": {
            "application/javascript": [
              "\n",
              "    async function download(id, filename, size) {\n",
              "      if (!google.colab.kernel.accessAllowed) {\n",
              "        return;\n",
              "      }\n",
              "      const div = document.createElement('div');\n",
              "      const label = document.createElement('label');\n",
              "      label.textContent = `Downloading \"${filename}\": `;\n",
              "      div.appendChild(label);\n",
              "      const progress = document.createElement('progress');\n",
              "      progress.max = size;\n",
              "      div.appendChild(progress);\n",
              "      document.body.appendChild(div);\n",
              "\n",
              "      const buffers = [];\n",
              "      let downloaded = 0;\n",
              "\n",
              "      const channel = await google.colab.kernel.comms.open(id);\n",
              "      // Send a message to notify the kernel that we're ready.\n",
              "      channel.send({})\n",
              "\n",
              "      for await (const message of channel.messages) {\n",
              "        // Send a message to notify the kernel that we're ready.\n",
              "        channel.send({})\n",
              "        if (message.buffers) {\n",
              "          for (const buffer of message.buffers) {\n",
              "            buffers.push(buffer);\n",
              "            downloaded += buffer.byteLength;\n",
              "            progress.value = downloaded;\n",
              "          }\n",
              "        }\n",
              "      }\n",
              "      const blob = new Blob(buffers, {type: 'application/binary'});\n",
              "      const a = document.createElement('a');\n",
              "      a.href = window.URL.createObjectURL(blob);\n",
              "      a.download = filename;\n",
              "      div.appendChild(a);\n",
              "      a.click();\n",
              "      div.remove();\n",
              "    }\n",
              "  "
            ],
            "text/plain": [
              "<IPython.core.display.Javascript object>"
            ]
          },
          "metadata": {
            "tags": []
          }
        },
        {
          "output_type": "display_data",
          "data": {
            "application/javascript": [
              "download(\"download_bebadc84-0f3b-4db8-8974-89fb703aaad0\", \"fpl_xgb_model_variables.csv\", 626)"
            ],
            "text/plain": [
              "<IPython.core.display.Javascript object>"
            ]
          },
          "metadata": {
            "tags": []
          }
        }
      ]
    },
    {
      "cell_type": "markdown",
      "metadata": {
        "id": "5w6ih3jonRhS"
      },
      "source": [
        "Files downloaded to local machine and uploaded to Google Drive"
      ]
    }
  ]
}