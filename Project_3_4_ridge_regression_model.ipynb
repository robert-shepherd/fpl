{
  "nbformat": 4,
  "nbformat_minor": 0,
  "metadata": {
    "colab": {
      "name": "Project: 3.4 ridge regression model.ipynb",
      "provenance": [],
      "collapsed_sections": [],
      "toc_visible": true,
      "authorship_tag": "ABX9TyPlAs36NeeIM3x4KPo0wjMY",
      "include_colab_link": true
    },
    "kernelspec": {
      "name": "python3",
      "display_name": "Python 3"
    }
  },
  "cells": [
    {
      "cell_type": "markdown",
      "metadata": {
        "id": "view-in-github",
        "colab_type": "text"
      },
      "source": [
        "<a href=\"https://colab.research.google.com/github/robert-shepherd/fpl/blob/main/Project_3_4_ridge_regression_model.ipynb\" target=\"_parent\"><img src=\"https://colab.research.google.com/assets/colab-badge.svg\" alt=\"Open In Colab\"/></a>"
      ]
    },
    {
      "cell_type": "markdown",
      "metadata": {
        "id": "tkJ2DLs2yQu_"
      },
      "source": [
        "# Ridge regression model\n",
        "\n",
        "\n",
        "---\n",
        "\n",
        "The purpose of this script is to develop the ridge regression model\n",
        "\n",
        "Data sources:\n",
        "* Data post feature engineering:  https://raw.githubusercontent.com/robert-shepherd/fpl/main/fpl_features.csv\n"
      ]
    },
    {
      "cell_type": "code",
      "metadata": {
        "id": "50lDqPe7yBam"
      },
      "source": [
        "# Loading libraries\n",
        "import pandas as pd\n",
        "import pickle\n",
        "import numpy as np\n",
        "import scipy.stats as stats\n",
        "from sklearn import model_selection\n",
        "from sklearn.model_selection import train_test_split\n",
        "from sklearn.model_selection import GridSearchCV\n",
        "from sklearn.model_selection import cross_val_score\n",
        "from sklearn.model_selection import cross_validate\n",
        "import matplotlib.pyplot as plt\n",
        "import seaborn as sns\n",
        "from google.colab import files\n",
        "\n",
        "# Model libraries\n",
        "from sklearn.linear_model import Ridge\n",
        "\n",
        "# Import measures\n",
        "from sklearn.metrics import explained_variance_score\n",
        "from sklearn.metrics import mean_squared_error"
      ],
      "execution_count": null,
      "outputs": []
    },
    {
      "cell_type": "markdown",
      "metadata": {
        "id": "5mUPgRwozkCm"
      },
      "source": [
        "## Setup"
      ]
    },
    {
      "cell_type": "code",
      "metadata": {
        "colab": {
          "base_uri": "https://localhost:8080/"
        },
        "id": "kZB1tSVOzAfw",
        "outputId": "8f7492c3-3c04-4a81-efd0-cd58cfd65628"
      },
      "source": [
        "# Reading in files from static output\n",
        "X_train_url = 'https://raw.githubusercontent.com/robert-shepherd/fpl/main/X_train.csv'\n",
        "X_test_url = 'https://raw.githubusercontent.com/robert-shepherd/fpl/main/X_test.csv'\n",
        "Y_train_url = 'https://raw.githubusercontent.com/robert-shepherd/fpl/main/Y_train.csv'\n",
        "Y_test_url = 'https://raw.githubusercontent.com/robert-shepherd/fpl/main/Y_test.csv'\n",
        "\n",
        "X_train = pd.read_csv(X_train_url)\n",
        "X_test = pd.read_csv(X_test_url)\n",
        "Y_train = pd.read_csv(Y_train_url,squeeze=True)\n",
        "Y_test = pd.read_csv(Y_test_url,squeeze=True)\n",
        "\n",
        "print('X_train      : ',X_train.shape)\n",
        "print('X_test       : ',X_test.shape)\n",
        "print('Y_train      : ',Y_train.shape)\n",
        "print('Y_test       : ',Y_test.shape)"
      ],
      "execution_count": null,
      "outputs": [
        {
          "output_type": "stream",
          "text": [
            "X_train      :  (40388, 40)\n",
            "X_test       :  (10098, 40)\n",
            "Y_train      :  (40388,)\n",
            "Y_test       :  (10098,)\n"
          ],
          "name": "stdout"
        }
      ]
    },
    {
      "cell_type": "code",
      "metadata": {
        "colab": {
          "base_uri": "https://localhost:8080/"
        },
        "id": "OHoBVbTRzSdR",
        "outputId": "277edf9c-6263-440a-a940-538bbfae36d6"
      },
      "source": [
        "# Creating a copy with missing values removed\n",
        "train_na = X_train.isnull().any(axis=1)\n",
        "test_na = X_test.isnull().any(axis=1)\n",
        "\n",
        "X_train_no_na = X_train[~train_na]\n",
        "Y_train_no_na = Y_train[~train_na]\n",
        "\n",
        "X_test_no_na = X_test[~test_na]\n",
        "Y_test_no_na = Y_test[~test_na]\n",
        "\n",
        "print('X_train_no_na      : ',X_train_no_na.shape)\n",
        "print('X_test_no_na       : ',X_test_no_na.shape)\n",
        "print('Y_train_no_na      : ',Y_train_no_na.shape)\n",
        "print('Y_test_no_na       : ',Y_test_no_na.shape)"
      ],
      "execution_count": null,
      "outputs": [
        {
          "output_type": "stream",
          "text": [
            "X_train_no_na      :  (32698, 40)\n",
            "X_test_no_na       :  (8195, 40)\n",
            "Y_train_no_na      :  (32698,)\n",
            "Y_test_no_na       :  (8195,)\n"
          ],
          "name": "stdout"
        }
      ]
    },
    {
      "cell_type": "markdown",
      "metadata": {
        "id": "ZDqHBE7dVy-F"
      },
      "source": [
        "## Default regression model\n"
      ]
    },
    {
      "cell_type": "code",
      "metadata": {
        "id": "fhapiy-OWKXT",
        "colab": {
          "base_uri": "https://localhost:8080/"
        },
        "outputId": "2ddcf45c-19d4-45a4-e7a3-83c0cdb6e699"
      },
      "source": [
        "# Training default Ridge model\n",
        "ridge = Ridge(normalize=True)\n",
        "ridge.fit(X_train_no_na,Y_train_no_na)"
      ],
      "execution_count": null,
      "outputs": [
        {
          "output_type": "execute_result",
          "data": {
            "text/plain": [
              "Ridge(alpha=1.0, copy_X=True, fit_intercept=True, max_iter=None, normalize=True,\n",
              "      random_state=None, solver='auto', tol=0.001)"
            ]
          },
          "metadata": {
            "tags": []
          },
          "execution_count": 4
        }
      ]
    },
    {
      "cell_type": "code",
      "metadata": {
        "id": "XiztBd2RV7fu"
      },
      "source": [
        "# Predicting on test\n",
        "y_pred = ridge.predict(X_test_no_na)"
      ],
      "execution_count": null,
      "outputs": []
    },
    {
      "cell_type": "code",
      "metadata": {
        "colab": {
          "base_uri": "https://localhost:8080/"
        },
        "id": "fIkaRsqSWnpz",
        "outputId": "d33fd917-6e42-4c0b-8015-9c88c467c81f"
      },
      "source": [
        "# Checking min/max prediction\n",
        "min_pred = min(y_pred)\n",
        "max_pred = max(y_pred)\n",
        "print(\"Min prediction: {}\".format(min_pred))\n",
        "print(\"Max prediction: {}\".format(max_pred))"
      ],
      "execution_count": null,
      "outputs": [
        {
          "output_type": "stream",
          "text": [
            "Min prediction: 0.020441245389502205\n",
            "Max prediction: 7.3423646510534155\n"
          ],
          "name": "stdout"
        }
      ]
    },
    {
      "cell_type": "code",
      "metadata": {
        "colab": {
          "base_uri": "https://localhost:8080/"
        },
        "id": "LDhnYDrd5xux",
        "outputId": "109a42fd-142d-4f98-bb2d-98b2573da23d"
      },
      "source": [
        "r2 = ridge.score(X_test_no_na, Y_test_no_na)\n",
        "print(\"R squared: {}\".format(r2))"
      ],
      "execution_count": null,
      "outputs": [
        {
          "output_type": "stream",
          "text": [
            "R squared: 0.24340311504592937\n"
          ],
          "name": "stdout"
        }
      ]
    },
    {
      "cell_type": "markdown",
      "metadata": {
        "id": "jJDjF3Zfjd9_"
      },
      "source": [
        "## Evaluating bias/variance tradeoff\n"
      ]
    },
    {
      "cell_type": "code",
      "metadata": {
        "id": "Jq1v2PByeY5K",
        "colab": {
          "base_uri": "https://localhost:8080/"
        },
        "outputId": "fa0ca7b4-9666-4967-c594-04e9e818a562"
      },
      "source": [
        "# Checking 10 fold cross validation error\n",
        "MSE_CV_scores = cross_val_score(ridge, X_train_no_na, Y_train_no_na, cv=10, \n",
        "                       scoring='neg_mean_squared_error',\n",
        "                       n_jobs=-1)\n",
        "\n",
        "cv_mse = abs(MSE_CV_scores.mean())\n",
        "\n",
        "print(\"CV MSE: {}\".format(cv_mse))"
      ],
      "execution_count": null,
      "outputs": [
        {
          "output_type": "stream",
          "text": [
            "CV MSE: 4.7847154097772355\n"
          ],
          "name": "stdout"
        }
      ]
    },
    {
      "cell_type": "code",
      "metadata": {
        "colab": {
          "base_uri": "https://localhost:8080/"
        },
        "id": "tvr04FyWjkAs",
        "outputId": "ec11f119-cb3f-407c-b348-5d2bdf4fe09b"
      },
      "source": [
        "# Checking test MSE\n",
        "test_mse = mean_squared_error(Y_test_no_na, y_pred)\n",
        "print(\"Test MSE: {}\".format(test_mse))"
      ],
      "execution_count": null,
      "outputs": [
        {
          "output_type": "stream",
          "text": [
            "Test MSE: 4.81669381152178\n"
          ],
          "name": "stdout"
        }
      ]
    },
    {
      "cell_type": "code",
      "metadata": {
        "colab": {
          "base_uri": "https://localhost:8080/"
        },
        "id": "U8nYY3S8jnhM",
        "outputId": "182af3d1-aa1e-4c5e-bfd4-67e8a3ece29d"
      },
      "source": [
        "# Checking training MSE\n",
        "y_pred_train = ridge.predict(X_train_no_na)\n",
        "train_mse = mean_squared_error(Y_train_no_na, y_pred_train)\n",
        "print(\"Train MSE: {}\".format(train_mse))"
      ],
      "execution_count": null,
      "outputs": [
        {
          "output_type": "stream",
          "text": [
            "Train MSE: 4.776450589497557\n"
          ],
          "name": "stdout"
        }
      ]
    },
    {
      "cell_type": "markdown",
      "metadata": {
        "id": "KyjJTNRCmu8x"
      },
      "source": [
        "## Optimising alpha selection"
      ]
    },
    {
      "cell_type": "code",
      "metadata": {
        "id": "r2w1tfXgmx98"
      },
      "source": [
        "# Setup\n",
        "ridge = Ridge(normalize=True)\n",
        "\n",
        "alpha_space = np.logspace(-4, 0, 50)\n",
        "ridge_scores = []\n",
        "ridge_scores_std = []"
      ],
      "execution_count": null,
      "outputs": []
    },
    {
      "cell_type": "code",
      "metadata": {
        "id": "lmTQwYcmm4vm"
      },
      "source": [
        "# Compute scores over range of alphas\n",
        "for alpha in alpha_space:\n",
        "\n",
        "    # Specify the alpha value to use: ridge.alpha\n",
        "    ridge.alpha = alpha\n",
        "    \n",
        "    # Perform 10-fold CV: ridge_cv_scores\n",
        "    ridge_cv_scores = cross_val_score(ridge,X_train_no_na,Y_train_no_na,cv=10)\n",
        "    \n",
        "    # Append the mean of ridge_cv_scores to ridge_scores\n",
        "    ridge_scores.append(np.mean(ridge_cv_scores))\n",
        "    \n",
        "    # Append the std of ridge_cv_scores to ridge_scores_std\n",
        "    ridge_scores_std.append(np.std(ridge_cv_scores))"
      ],
      "execution_count": null,
      "outputs": []
    },
    {
      "cell_type": "code",
      "metadata": {
        "colab": {
          "base_uri": "https://localhost:8080/",
          "height": 470
        },
        "id": "lT135bO0-ecu",
        "outputId": "b72dd3d3-7a14-45a5-b209-9aaeb64c4cf8"
      },
      "source": [
        "# Display plot\n",
        "sns.set()\n",
        "fig = plt.figure(figsize=(8,7))\n",
        "ax = fig.add_subplot(1,1,1)\n",
        "plt.plot(alpha_space, ridge_scores)\n",
        "\n",
        "std_error = ridge_scores_std / np.sqrt(10)\n",
        "\n",
        "ax.fill_between(alpha_space, ridge_scores + std_error, ridge_scores - std_error, alpha=0.2)\n",
        "ax.set_ylabel('CV Score +/- Std Error')\n",
        "ax.set_xlabel('L2 penalty')\n",
        "ax.axhline(np.max(ridge_scores), linestyle='--', color='.5')\n",
        "ax.set_xlim([alpha_space[0], alpha_space[-1]])\n",
        "ax.set_xscale('log')\n",
        "plt.title(\"Cross-validation R2 for different L2 penalties\")\n",
        "plt.show()"
      ],
      "execution_count": null,
      "outputs": [
        {
          "output_type": "display_data",
          "data": {
            "image/png": "[encoded data removed]",
            "text/plain": [
              "<Figure size 576x504 with 1 Axes>"
            ]
          },
          "metadata": {
            "tags": []
          }
        }
      ]
    },
    {
      "cell_type": "code",
      "metadata": {
        "colab": {
          "base_uri": "https://localhost:8080/"
        },
        "id": "2cygCcJGtTWh",
        "outputId": "7f713eb7-5b82-44ad-fa3d-0bda74ec0d79"
      },
      "source": [
        "~# Using grid search to identify the optimum alpha level\n",
        "ridge = Ridge(normalize=True)\n",
        "param_grid = {'alpha': alpha_space}\n",
        "\n",
        "gm_cv = GridSearchCV(estimator=ridge, param_grid=param_grid, cv=10)\n",
        "\n",
        "gm_cv.fit(X_train_no_na,Y_train_no_na)\n",
        "\n",
        "y_pred = gm_cv.predict(X_test_no_na)\n",
        "r2 = gm_cv.score(X_test_no_na, Y_test_no_na)\n",
        "mse = mean_squared_error(Y_test_no_na, y_pred)\n",
        "\n",
        "print(\"Ridge best CV score: {}\".format(gm_cv.best_score_))\n",
        "print(\"Tuned Ridge l1 ratio: {}\".format(gm_cv.best_params_))\n",
        "print(\"Tuned Ridge R squared: {}\".format(r2))\n",
        "print(\"Tuned Ridge MSE: {}\".format(mse))\n"
      ],
      "execution_count": null,
      "outputs": [
        {
          "output_type": "stream",
          "text": [
            "Ridge best CV score: 0.2784039503258891\n",
            "Tuned Ridge l1 ratio: {'alpha': 0.019306977288832496}\n",
            "Tuned Ridge R squared: 0.2538090818604939\n",
            "Tuned Ridge MSE: 4.750446702981733\n"
          ],
          "name": "stdout"
        }
      ]
    },
    {
      "cell_type": "markdown",
      "metadata": {
        "id": "ZyjXYo-E-HQK"
      },
      "source": [
        "## Understanding feature importance"
      ]
    },
    {
      "cell_type": "code",
      "metadata": {
        "colab": {
          "base_uri": "https://localhost:8080/"
        },
        "id": "tsi-cbBjCsi5",
        "outputId": "f9ef174f-a546-4b2b-ead5-cfb25627886b"
      },
      "source": [
        "# Training Lasso model\n",
        "ridge = Ridge(normalize=True,alpha=0.019306977288832496)\n",
        "ridge.fit(X_train_no_na,Y_train_no_na)"
      ],
      "execution_count": null,
      "outputs": [
        {
          "output_type": "execute_result",
          "data": {
            "text/plain": [
              "Ridge(alpha=0.019306977288832496, copy_X=True, fit_intercept=True,\n",
              "      max_iter=None, normalize=True, random_state=None, solver='auto',\n",
              "      tol=0.001)"
            ]
          },
          "metadata": {
            "tags": []
          },
          "execution_count": 15
        }
      ]
    },
    {
      "cell_type": "code",
      "metadata": {
        "colab": {
          "base_uri": "https://localhost:8080/",
          "height": 622
        },
        "id": "h0a5Bvk2D5NJ",
        "outputId": "0f72c6a8-6d04-4032-c963-61f50bc63266"
      },
      "source": [
        "# Checking which variables have the largest coefficients\n",
        "ridge_coef = ridge.coef_\n",
        "df_columns = X_test_no_na.columns\n",
        "\n",
        "coef_df = pd.DataFrame(df_columns,columns=['feature'])\n",
        "coef_df['coefficients'] = ridge_coef\n",
        "coef_df['coefficients_abs'] = abs(ridge_coef)\n",
        "\n",
        "coef_df.sort_values(by=['coefficients_abs'],ascending=False).head(20)"
      ],
      "execution_count": null,
      "outputs": [
        {
          "output_type": "execute_result",
          "data": {
            "text/html": [
              "<div>\n",
              "<style scoped>\n",
              "    .dataframe tbody tr th:only-of-type {\n",
              "        vertical-align: middle;\n",
              "    }\n",
              "\n",
              "    .dataframe tbody tr th {\n",
              "        vertical-align: top;\n",
              "    }\n",
              "\n",
              "    .dataframe thead th {\n",
              "        text-align: right;\n",
              "    }\n",
              "</style>\n",
              "<table border=\"1\" class=\"dataframe\">\n",
              "  <thead>\n",
              "    <tr style=\"text-align: right;\">\n",
              "      <th></th>\n",
              "      <th>feature</th>\n",
              "      <th>coefficients</th>\n",
              "      <th>coefficients_abs</th>\n",
              "    </tr>\n",
              "  </thead>\n",
              "  <tbody>\n",
              "    <tr>\n",
              "      <th>35</th>\n",
              "      <td>transfers_out_ratio_rolling</td>\n",
              "      <td>0.916282</td>\n",
              "      <td>0.916282</td>\n",
              "    </tr>\n",
              "    <tr>\n",
              "      <th>33</th>\n",
              "      <td>transfers_in_ratio_rolling</td>\n",
              "      <td>-0.762230</td>\n",
              "      <td>0.762230</td>\n",
              "    </tr>\n",
              "    <tr>\n",
              "      <th>21</th>\n",
              "      <td>bonus_rolling</td>\n",
              "      <td>-0.458717</td>\n",
              "      <td>0.458717</td>\n",
              "    </tr>\n",
              "    <tr>\n",
              "      <th>11</th>\n",
              "      <td>assists_rolling</td>\n",
              "      <td>0.343536</td>\n",
              "      <td>0.343536</td>\n",
              "    </tr>\n",
              "    <tr>\n",
              "      <th>17</th>\n",
              "      <td>saves_rolling</td>\n",
              "      <td>0.246540</td>\n",
              "      <td>0.246540</td>\n",
              "    </tr>\n",
              "    <tr>\n",
              "      <th>8</th>\n",
              "      <td>goals_scored_lag</td>\n",
              "      <td>-0.240807</td>\n",
              "      <td>0.240807</td>\n",
              "    </tr>\n",
              "    <tr>\n",
              "      <th>36</th>\n",
              "      <td>was_home_True</td>\n",
              "      <td>0.220829</td>\n",
              "      <td>0.220829</td>\n",
              "    </tr>\n",
              "    <tr>\n",
              "      <th>34</th>\n",
              "      <td>transfers_out_ratio_lag</td>\n",
              "      <td>-0.219581</td>\n",
              "      <td>0.219581</td>\n",
              "    </tr>\n",
              "    <tr>\n",
              "      <th>0</th>\n",
              "      <td>opponent_strength</td>\n",
              "      <td>-0.209610</td>\n",
              "      <td>0.209610</td>\n",
              "    </tr>\n",
              "    <tr>\n",
              "      <th>10</th>\n",
              "      <td>assists_lag</td>\n",
              "      <td>-0.187210</td>\n",
              "      <td>0.187210</td>\n",
              "    </tr>\n",
              "    <tr>\n",
              "      <th>18</th>\n",
              "      <td>cards_lag</td>\n",
              "      <td>-0.167844</td>\n",
              "      <td>0.167844</td>\n",
              "    </tr>\n",
              "    <tr>\n",
              "      <th>38</th>\n",
              "      <td>position_GKP</td>\n",
              "      <td>-0.157791</td>\n",
              "      <td>0.157791</td>\n",
              "    </tr>\n",
              "    <tr>\n",
              "      <th>1</th>\n",
              "      <td>points_lag_1</td>\n",
              "      <td>0.101598</td>\n",
              "      <td>0.101598</td>\n",
              "    </tr>\n",
              "    <tr>\n",
              "      <th>32</th>\n",
              "      <td>transfers_in_ratio_lag</td>\n",
              "      <td>0.101260</td>\n",
              "      <td>0.101260</td>\n",
              "    </tr>\n",
              "    <tr>\n",
              "      <th>19</th>\n",
              "      <td>cards_rolling</td>\n",
              "      <td>0.096814</td>\n",
              "      <td>0.096814</td>\n",
              "    </tr>\n",
              "    <tr>\n",
              "      <th>20</th>\n",
              "      <td>bonus_lag</td>\n",
              "      <td>-0.089770</td>\n",
              "      <td>0.089770</td>\n",
              "    </tr>\n",
              "    <tr>\n",
              "      <th>12</th>\n",
              "      <td>clean_sheets_lag</td>\n",
              "      <td>-0.087827</td>\n",
              "      <td>0.087827</td>\n",
              "    </tr>\n",
              "    <tr>\n",
              "      <th>37</th>\n",
              "      <td>position_FWD</td>\n",
              "      <td>0.070222</td>\n",
              "      <td>0.070222</td>\n",
              "    </tr>\n",
              "    <tr>\n",
              "      <th>2</th>\n",
              "      <td>points_lag_2</td>\n",
              "      <td>0.059745</td>\n",
              "      <td>0.059745</td>\n",
              "    </tr>\n",
              "    <tr>\n",
              "      <th>3</th>\n",
              "      <td>points_lag_3</td>\n",
              "      <td>0.055726</td>\n",
              "      <td>0.055726</td>\n",
              "    </tr>\n",
              "  </tbody>\n",
              "</table>\n",
              "</div>"
            ],
            "text/plain": [
              "                        feature  coefficients  coefficients_abs\n",
              "35  transfers_out_ratio_rolling      0.916282          0.916282\n",
              "33   transfers_in_ratio_rolling     -0.762230          0.762230\n",
              "21                bonus_rolling     -0.458717          0.458717\n",
              "11              assists_rolling      0.343536          0.343536\n",
              "17                saves_rolling      0.246540          0.246540\n",
              "8              goals_scored_lag     -0.240807          0.240807\n",
              "36                was_home_True      0.220829          0.220829\n",
              "34      transfers_out_ratio_lag     -0.219581          0.219581\n",
              "0             opponent_strength     -0.209610          0.209610\n",
              "10                  assists_lag     -0.187210          0.187210\n",
              "18                    cards_lag     -0.167844          0.167844\n",
              "38                 position_GKP     -0.157791          0.157791\n",
              "1                  points_lag_1      0.101598          0.101598\n",
              "32       transfers_in_ratio_lag      0.101260          0.101260\n",
              "19                cards_rolling      0.096814          0.096814\n",
              "20                    bonus_lag     -0.089770          0.089770\n",
              "12             clean_sheets_lag     -0.087827          0.087827\n",
              "37                 position_FWD      0.070222          0.070222\n",
              "2                  points_lag_2      0.059745          0.059745\n",
              "3                  points_lag_3      0.055726          0.055726"
            ]
          },
          "metadata": {
            "tags": []
          },
          "execution_count": 16
        }
      ]
    },
    {
      "cell_type": "code",
      "metadata": {
        "id": "p5yljPkZFtmL"
      },
      "source": [
        "# Setting default Seaborn style\n",
        "sns.set(rc={'figure.figsize':(10,8)})"
      ],
      "execution_count": null,
      "outputs": []
    },
    {
      "cell_type": "code",
      "metadata": {
        "colab": {
          "base_uri": "https://localhost:8080/",
          "height": 564
        },
        "id": "iN6w-F-3-HpE",
        "outputId": "74b659d1-bbe4-4521-ad19-e569bed98fdd"
      },
      "source": [
        "# Plot coefficients\n",
        "top_10_features = coef_df.sort_values(by=['coefficients_abs'],ascending=False).head(10)\n",
        "plt.figure(figsize=(16,7))\n",
        "plt.xticks(rotation=45) \n",
        "sns.barplot(x='feature', y='coefficients',data=top_10_features)\n",
        "plt.title('Ridge regression coefficients by feature (top 10)')\n",
        "plt.show()"
      ],
      "execution_count": null,
      "outputs": [
        {
          "output_type": "display_data",
          "data": {
            "image/png": "[encoded data removed]",
            "text/plain": [
              "<Figure size 1152x504 with 1 Axes>"
            ]
          },
          "metadata": {
            "tags": []
          }
        }
      ]
    },
    {
      "cell_type": "code",
      "metadata": {
        "id": "NLfWfuyaGZVB"
      },
      "source": [
        ""
      ],
      "execution_count": null,
      "outputs": []
    }
  ]
}