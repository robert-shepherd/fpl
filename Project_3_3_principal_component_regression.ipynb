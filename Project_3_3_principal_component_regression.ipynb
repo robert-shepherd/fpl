{
  "nbformat": 4,
  "nbformat_minor": 0,
  "metadata": {
    "colab": {
      "name": "Project: 3.3 principal component regression.ipynb",
      "provenance": [],
      "collapsed_sections": [],
      "toc_visible": true,
      "authorship_tag": "ABX9TyN9QwXYh+C0vT0nUj2AukWk",
      "include_colab_link": true
    },
    "kernelspec": {
      "display_name": "Python 3",
      "name": "python3"
    }
  },
  "cells": [
    {
      "cell_type": "markdown",
      "metadata": {
        "id": "view-in-github",
        "colab_type": "text"
      },
      "source": [
        "<a href=\"https://colab.research.google.com/github/robert-shepherd/fpl/blob/main/Project_3_3_principal_component_regression.ipynb\" target=\"_parent\"><img src=\"https://colab.research.google.com/assets/colab-badge.svg\" alt=\"Open In Colab\"/></a>"
      ]
    },
    {
      "cell_type": "markdown",
      "metadata": {
        "id": "tkJ2DLs2yQu_"
      },
      "source": [
        "# Principal component regression model\n",
        "\n",
        "\n",
        "---\n",
        "\n",
        "The purpose of this script is to develop the linear regression model\n",
        "using PCA\n",
        "\n",
        "Data sources:\n",
        "* Data post feature engineering:  https://raw.githubusercontent.com/robert-shepherd/fpl/main/fpl_features.csv\n"
      ]
    },
    {
      "cell_type": "code",
      "metadata": {
        "id": "50lDqPe7yBam"
      },
      "source": [
        "# Loading libraries\n",
        "import pandas as pd\n",
        "import pickle\n",
        "import numpy as np\n",
        "import scipy.stats as stats\n",
        "from sklearn import model_selection\n",
        "from sklearn.model_selection import train_test_split\n",
        "from sklearn.model_selection import cross_val_score\n",
        "from sklearn.model_selection import cross_validate\n",
        "import matplotlib.pyplot as plt\n",
        "import seaborn as sns\n",
        "from google.colab import files\n",
        "\n",
        "# Libraries to build PCA\n",
        "from sklearn.preprocessing import StandardScaler\n",
        "from sklearn.decomposition import PCA\n",
        "from sklearn.pipeline import Pipeline\n",
        "\n",
        "# Model libraries\n",
        "from sklearn.linear_model import LinearRegression\n",
        "\n",
        "# Import measures\n",
        "from sklearn.metrics import explained_variance_score\n",
        "from sklearn.metrics import mean_squared_error\n",
        "from sklearn.metrics import r2_score"
      ],
      "execution_count": null,
      "outputs": []
    },
    {
      "cell_type": "markdown",
      "metadata": {
        "id": "5mUPgRwozkCm"
      },
      "source": [
        "## Setup"
      ]
    },
    {
      "cell_type": "code",
      "metadata": {
        "colab": {
          "base_uri": "https://localhost:8080/"
        },
        "id": "kZB1tSVOzAfw",
        "outputId": "ce92adfe-d591-494d-e000-be7cfef6e8e0"
      },
      "source": [
        "# Reading in files from static output\n",
        "X_train_url = 'https://raw.githubusercontent.com/robert-shepherd/fpl/main/X_train.csv'\n",
        "X_test_url = 'https://raw.githubusercontent.com/robert-shepherd/fpl/main/X_test.csv'\n",
        "Y_train_url = 'https://raw.githubusercontent.com/robert-shepherd/fpl/main/Y_train.csv'\n",
        "Y_test_url = 'https://raw.githubusercontent.com/robert-shepherd/fpl/main/Y_test.csv'\n",
        "\n",
        "X_train = pd.read_csv(X_train_url)\n",
        "X_test = pd.read_csv(X_test_url)\n",
        "Y_train = pd.read_csv(Y_train_url,squeeze=True)\n",
        "Y_test = pd.read_csv(Y_test_url,squeeze=True)\n",
        "\n",
        "print('X_train      : ',X_train.shape)\n",
        "print('X_test       : ',X_test.shape)\n",
        "print('Y_train      : ',Y_train.shape)\n",
        "print('Y_test       : ',Y_test.shape)"
      ],
      "execution_count": null,
      "outputs": [
        {
          "output_type": "stream",
          "text": [
            "X_train      :  (40388, 40)\n",
            "X_test       :  (10098, 40)\n",
            "Y_train      :  (40388,)\n",
            "Y_test       :  (10098,)\n"
          ],
          "name": "stdout"
        }
      ]
    },
    {
      "cell_type": "code",
      "metadata": {
        "colab": {
          "base_uri": "https://localhost:8080/"
        },
        "id": "OHoBVbTRzSdR",
        "outputId": "97209647-cab6-409b-8c88-a6ae3885cd91"
      },
      "source": [
        "# Removing missing from initial checks\n",
        "train_na = X_train.isnull().any(axis=1)\n",
        "test_na = X_test.isnull().any(axis=1)\n",
        "\n",
        "X_train_no_na = X_train[~train_na]\n",
        "Y_train_no_na = Y_train[~train_na]\n",
        "\n",
        "X_test_no_na = X_test[~test_na]\n",
        "Y_test_no_na = Y_test[~test_na]\n",
        "\n",
        "print('X_train_no_na      : ',X_train_no_na.shape)\n",
        "print('X_test_no_na       : ',X_test_no_na.shape)\n",
        "print('Y_train_no_na      : ',Y_train_no_na.shape)\n",
        "print('Y_test_no_na       : ',Y_test_no_na.shape)"
      ],
      "execution_count": null,
      "outputs": [
        {
          "output_type": "stream",
          "text": [
            "X_train_no_na      :  (32698, 40)\n",
            "X_test_no_na       :  (8195, 40)\n",
            "Y_train_no_na      :  (32698,)\n",
            "Y_test_no_na       :  (8195,)\n"
          ],
          "name": "stdout"
        }
      ]
    },
    {
      "cell_type": "markdown",
      "metadata": {
        "id": "Cw1dh55hm-n9"
      },
      "source": [
        "## Develop PCA"
      ]
    },
    {
      "cell_type": "code",
      "metadata": {
        "colab": {
          "base_uri": "https://localhost:8080/",
          "height": 210
        },
        "id": "qKSwIGVinAst",
        "outputId": "36419d06-df4a-4b4a-9760-fccab077d75a"
      },
      "source": [
        "# Viewing data pre scaled\n",
        "X_train_no_na.head()"
      ],
      "execution_count": null,
      "outputs": [
        {
          "output_type": "execute_result",
          "data": {
            "text/html": [
              "<div>\n",
              "<style scoped>\n",
              "    .dataframe tbody tr th:only-of-type {\n",
              "        vertical-align: middle;\n",
              "    }\n",
              "\n",
              "    .dataframe tbody tr th {\n",
              "        vertical-align: top;\n",
              "    }\n",
              "\n",
              "    .dataframe thead th {\n",
              "        text-align: right;\n",
              "    }\n",
              "</style>\n",
              "<table border=\"1\" class=\"dataframe\">\n",
              "  <thead>\n",
              "    <tr style=\"text-align: right;\">\n",
              "      <th></th>\n",
              "      <th>opponent_strength</th>\n",
              "      <th>points_lag_1</th>\n",
              "      <th>points_lag_2</th>\n",
              "      <th>points_lag_3</th>\n",
              "      <th>points_lag_4</th>\n",
              "      <th>points_lag_5</th>\n",
              "      <th>minutes_lag</th>\n",
              "      <th>minutes_rolling</th>\n",
              "      <th>goals_scored_lag</th>\n",
              "      <th>goals_scored_rolling</th>\n",
              "      <th>assists_lag</th>\n",
              "      <th>assists_rolling</th>\n",
              "      <th>clean_sheets_lag</th>\n",
              "      <th>clean_sheets_rolling</th>\n",
              "      <th>goals_conceded_lag</th>\n",
              "      <th>goals_conceded_rolling</th>\n",
              "      <th>saves_lag</th>\n",
              "      <th>saves_rolling</th>\n",
              "      <th>cards_lag</th>\n",
              "      <th>cards_rolling</th>\n",
              "      <th>bonus_lag</th>\n",
              "      <th>bonus_rolling</th>\n",
              "      <th>bps_lag</th>\n",
              "      <th>bps_rolling</th>\n",
              "      <th>influence_lag</th>\n",
              "      <th>influence_rolling</th>\n",
              "      <th>creativity_lag</th>\n",
              "      <th>creativity_rolling</th>\n",
              "      <th>threat_lag</th>\n",
              "      <th>threat_rolling</th>\n",
              "      <th>selected_lag</th>\n",
              "      <th>selected_rolling</th>\n",
              "      <th>transfers_in_ratio_lag</th>\n",
              "      <th>transfers_in_ratio_rolling</th>\n",
              "      <th>transfers_out_ratio_lag</th>\n",
              "      <th>transfers_out_ratio_rolling</th>\n",
              "      <th>was_home_True</th>\n",
              "      <th>position_FWD</th>\n",
              "      <th>position_GKP</th>\n",
              "      <th>position_MID</th>\n",
              "    </tr>\n",
              "  </thead>\n",
              "  <tbody>\n",
              "    <tr>\n",
              "      <th>1</th>\n",
              "      <td>3</td>\n",
              "      <td>0.0</td>\n",
              "      <td>0.0</td>\n",
              "      <td>1.0</td>\n",
              "      <td>2.0</td>\n",
              "      <td>1.0</td>\n",
              "      <td>0.0</td>\n",
              "      <td>26.0</td>\n",
              "      <td>0.0</td>\n",
              "      <td>0.0</td>\n",
              "      <td>0.0</td>\n",
              "      <td>0.0</td>\n",
              "      <td>0.0</td>\n",
              "      <td>0.0</td>\n",
              "      <td>0.0</td>\n",
              "      <td>0.2</td>\n",
              "      <td>0.0</td>\n",
              "      <td>0.0</td>\n",
              "      <td>0.0</td>\n",
              "      <td>0.0</td>\n",
              "      <td>0.0</td>\n",
              "      <td>0.0</td>\n",
              "      <td>0.0</td>\n",
              "      <td>2.8</td>\n",
              "      <td>0.0</td>\n",
              "      <td>1.04</td>\n",
              "      <td>0.0</td>\n",
              "      <td>4.820000e+00</td>\n",
              "      <td>0.0</td>\n",
              "      <td>5.2</td>\n",
              "      <td>83405.0</td>\n",
              "      <td>94050.0</td>\n",
              "      <td>0.003741</td>\n",
              "      <td>0.037236</td>\n",
              "      <td>0.102979</td>\n",
              "      <td>0.101427</td>\n",
              "      <td>0</td>\n",
              "      <td>0</td>\n",
              "      <td>0</td>\n",
              "      <td>1</td>\n",
              "    </tr>\n",
              "    <tr>\n",
              "      <th>2</th>\n",
              "      <td>2</td>\n",
              "      <td>1.0</td>\n",
              "      <td>0.0</td>\n",
              "      <td>0.0</td>\n",
              "      <td>0.0</td>\n",
              "      <td>0.0</td>\n",
              "      <td>58.0</td>\n",
              "      <td>11.6</td>\n",
              "      <td>0.0</td>\n",
              "      <td>0.0</td>\n",
              "      <td>0.0</td>\n",
              "      <td>0.0</td>\n",
              "      <td>0.0</td>\n",
              "      <td>0.0</td>\n",
              "      <td>0.0</td>\n",
              "      <td>0.0</td>\n",
              "      <td>0.0</td>\n",
              "      <td>0.0</td>\n",
              "      <td>0.0</td>\n",
              "      <td>0.0</td>\n",
              "      <td>0.0</td>\n",
              "      <td>0.0</td>\n",
              "      <td>0.0</td>\n",
              "      <td>0.0</td>\n",
              "      <td>7.8</td>\n",
              "      <td>1.56</td>\n",
              "      <td>1.1</td>\n",
              "      <td>2.200000e-01</td>\n",
              "      <td>38.0</td>\n",
              "      <td>7.6</td>\n",
              "      <td>129215.0</td>\n",
              "      <td>131939.0</td>\n",
              "      <td>0.005719</td>\n",
              "      <td>0.006338</td>\n",
              "      <td>0.022822</td>\n",
              "      <td>0.024041</td>\n",
              "      <td>0</td>\n",
              "      <td>0</td>\n",
              "      <td>0</td>\n",
              "      <td>1</td>\n",
              "    </tr>\n",
              "    <tr>\n",
              "      <th>3</th>\n",
              "      <td>3</td>\n",
              "      <td>6.0</td>\n",
              "      <td>6.0</td>\n",
              "      <td>1.0</td>\n",
              "      <td>0.0</td>\n",
              "      <td>0.0</td>\n",
              "      <td>90.0</td>\n",
              "      <td>43.0</td>\n",
              "      <td>0.0</td>\n",
              "      <td>0.0</td>\n",
              "      <td>0.0</td>\n",
              "      <td>0.0</td>\n",
              "      <td>1.0</td>\n",
              "      <td>0.4</td>\n",
              "      <td>0.0</td>\n",
              "      <td>0.0</td>\n",
              "      <td>0.0</td>\n",
              "      <td>0.0</td>\n",
              "      <td>0.0</td>\n",
              "      <td>0.0</td>\n",
              "      <td>0.0</td>\n",
              "      <td>0.0</td>\n",
              "      <td>26.0</td>\n",
              "      <td>11.0</td>\n",
              "      <td>17.0</td>\n",
              "      <td>8.56</td>\n",
              "      <td>0.4</td>\n",
              "      <td>2.200000e+00</td>\n",
              "      <td>2.0</td>\n",
              "      <td>0.4</td>\n",
              "      <td>8198.0</td>\n",
              "      <td>6909.8</td>\n",
              "      <td>0.233594</td>\n",
              "      <td>0.061205</td>\n",
              "      <td>0.046963</td>\n",
              "      <td>0.060232</td>\n",
              "      <td>0</td>\n",
              "      <td>0</td>\n",
              "      <td>0</td>\n",
              "      <td>0</td>\n",
              "    </tr>\n",
              "    <tr>\n",
              "      <th>4</th>\n",
              "      <td>4</td>\n",
              "      <td>3.0</td>\n",
              "      <td>1.0</td>\n",
              "      <td>2.0</td>\n",
              "      <td>2.0</td>\n",
              "      <td>2.0</td>\n",
              "      <td>90.0</td>\n",
              "      <td>73.0</td>\n",
              "      <td>0.0</td>\n",
              "      <td>0.0</td>\n",
              "      <td>0.0</td>\n",
              "      <td>0.0</td>\n",
              "      <td>1.0</td>\n",
              "      <td>0.4</td>\n",
              "      <td>0.0</td>\n",
              "      <td>0.8</td>\n",
              "      <td>0.0</td>\n",
              "      <td>0.0</td>\n",
              "      <td>0.0</td>\n",
              "      <td>0.2</td>\n",
              "      <td>0.0</td>\n",
              "      <td>0.0</td>\n",
              "      <td>11.0</td>\n",
              "      <td>13.2</td>\n",
              "      <td>12.2</td>\n",
              "      <td>11.64</td>\n",
              "      <td>19.8</td>\n",
              "      <td>3.108000e+01</td>\n",
              "      <td>0.0</td>\n",
              "      <td>0.4</td>\n",
              "      <td>377753.0</td>\n",
              "      <td>393196.4</td>\n",
              "      <td>0.036508</td>\n",
              "      <td>0.040806</td>\n",
              "      <td>0.056518</td>\n",
              "      <td>0.059588</td>\n",
              "      <td>0</td>\n",
              "      <td>0</td>\n",
              "      <td>0</td>\n",
              "      <td>1</td>\n",
              "    </tr>\n",
              "    <tr>\n",
              "      <th>5</th>\n",
              "      <td>3</td>\n",
              "      <td>0.0</td>\n",
              "      <td>0.0</td>\n",
              "      <td>0.0</td>\n",
              "      <td>0.0</td>\n",
              "      <td>0.0</td>\n",
              "      <td>0.0</td>\n",
              "      <td>0.0</td>\n",
              "      <td>0.0</td>\n",
              "      <td>0.0</td>\n",
              "      <td>0.0</td>\n",
              "      <td>0.0</td>\n",
              "      <td>0.0</td>\n",
              "      <td>0.0</td>\n",
              "      <td>0.0</td>\n",
              "      <td>0.0</td>\n",
              "      <td>0.0</td>\n",
              "      <td>0.0</td>\n",
              "      <td>0.0</td>\n",
              "      <td>0.0</td>\n",
              "      <td>0.0</td>\n",
              "      <td>0.0</td>\n",
              "      <td>0.0</td>\n",
              "      <td>0.0</td>\n",
              "      <td>0.0</td>\n",
              "      <td>0.00</td>\n",
              "      <td>0.0</td>\n",
              "      <td>9.663381e-14</td>\n",
              "      <td>0.0</td>\n",
              "      <td>0.0</td>\n",
              "      <td>8018.0</td>\n",
              "      <td>8132.4</td>\n",
              "      <td>0.007483</td>\n",
              "      <td>0.007614</td>\n",
              "      <td>0.014842</td>\n",
              "      <td>0.022178</td>\n",
              "      <td>0</td>\n",
              "      <td>0</td>\n",
              "      <td>0</td>\n",
              "      <td>0</td>\n",
              "    </tr>\n",
              "  </tbody>\n",
              "</table>\n",
              "</div>"
            ],
            "text/plain": [
              "   opponent_strength  points_lag_1  ...  position_GKP  position_MID\n",
              "1                  3           0.0  ...             0             1\n",
              "2                  2           1.0  ...             0             1\n",
              "3                  3           6.0  ...             0             0\n",
              "4                  4           3.0  ...             0             1\n",
              "5                  3           0.0  ...             0             0\n",
              "\n",
              "[5 rows x 40 columns]"
            ]
          },
          "metadata": {
            "tags": []
          },
          "execution_count": 4
        }
      ]
    },
    {
      "cell_type": "code",
      "metadata": {
        "id": "iWWTmbCQW4bU"
      },
      "source": [
        "# Scaling data\n",
        "scaler = StandardScaler()\n",
        "X_train_scaled = scaler.fit_transform(X_train_no_na)\n",
        "X_test_scaled = scaler.transform(X_test_no_na)"
      ],
      "execution_count": null,
      "outputs": []
    },
    {
      "cell_type": "code",
      "metadata": {
        "id": "BsxCr9AXYFCw"
      },
      "source": [
        "# Creating PCA\n",
        "pca = PCA()\n",
        "X_train_pc = pca.fit_transform(X_train_scaled)\n",
        "X_test_pc = pca.transform(X_test_scaled)"
      ],
      "execution_count": null,
      "outputs": []
    },
    {
      "cell_type": "code",
      "metadata": {
        "colab": {
          "base_uri": "https://localhost:8080/",
          "height": 518
        },
        "id": "pP-HSoh-Z9JC",
        "outputId": "c27d0feb-62a2-42f9-e0aa-faa85a364b50"
      },
      "source": [
        "# Setting default Seaborn style\n",
        "sns.set(rc={'figure.figsize':(10,8)})\n",
        "\n",
        "# Plot the explained variance ratio\n",
        "principal_component = range(1,41)\n",
        "explained_variance = pca.explained_variance_ratio_\n",
        "plt.plot(principal_component,explained_variance)\n",
        "xt = np.arange(1,41,2)\n",
        "plt.xticks(xt)\n",
        "\n",
        "plt.title(\"Explained variance for each principal component\")\n",
        "plt.xlabel('Principal component')\n",
        "plt.ylabel('Explained variance ratio')\n",
        "plt.show()\n"
      ],
      "execution_count": null,
      "outputs": [
        {
          "output_type": "display_data",
          "data": {
            "image/png": "[encoded data removed]",
            "text/plain": [
              "<Figure size 720x576 with 1 Axes>"
            ]
          },
          "metadata": {
            "tags": []
          }
        }
      ]
    },
    {
      "cell_type": "code",
      "metadata": {
        "colab": {
          "base_uri": "https://localhost:8080/",
          "height": 518
        },
        "id": "3uyfZGBbak4H",
        "outputId": "91fbcad8-c678-437b-e784-185e54e5364a"
      },
      "source": [
        "# Setting default Seaborn style\n",
        "sns.set(rc={'figure.figsize':(10,8)})\n",
        "\n",
        "# Plot the explained variance ratio\n",
        "principal_component = range(1,41)\n",
        "explained_variance = pca.explained_variance_ratio_.cumsum()\n",
        "plt.plot(principal_component,explained_variance)\n",
        "xt = np.arange(1,41,2)\n",
        "plt.xticks(xt)\n",
        "yt = np.arange(0,1.1,0.1)\n",
        "plt.yticks(yt)\n",
        "plt.ylim(0,1)\n",
        "\n",
        "plt.title(\"Cumulative sum of explained variance for each principal component\")\n",
        "plt.xlabel('Principal component')\n",
        "plt.ylabel('Explained variance ratio (cumsum)')\n",
        "plt.show()\n"
      ],
      "execution_count": null,
      "outputs": [
        {
          "output_type": "display_data",
          "data": {
            "image/png": "[encoded data removed]",
            "text/plain": [
              "<Figure size 720x576 with 1 Axes>"
            ]
          },
          "metadata": {
            "tags": []
          }
        }
      ]
    },
    {
      "cell_type": "code",
      "metadata": {
        "id": "NCRTiy6vwDbP"
      },
      "source": [
        "# Contributions to components\n",
        "component_1 = pca.components_[0]\n",
        "component_2 = pca.components_[1]\n",
        "\n",
        "# Linking back to original features\n",
        "df_columns = X_test_no_na.columns\n",
        "\n",
        "component_1_df = pd.DataFrame(df_columns,columns=['feature'])\n",
        "component_1_df['component_contribution'] = component_1\n",
        "component_1_df['abs_component_contribution'] = abs(component_1)\n",
        "\n",
        "component_2_df = pd.DataFrame(df_columns,columns=['feature'])\n",
        "component_2_df['component_contribution'] = component_2\n",
        "component_2_df['abs_component_contribution'] = abs(component_2)"
      ],
      "execution_count": null,
      "outputs": []
    },
    {
      "cell_type": "code",
      "metadata": {
        "colab": {
          "base_uri": "https://localhost:8080/",
          "height": 622
        },
        "id": "ZWVURQSnxM5C",
        "outputId": "8e134a43-8273-417e-c437-85d8de69d514"
      },
      "source": [
        "# Viewing top features to component 1\n",
        "component_1_df.sort_values(by=['abs_component_contribution']\n",
        "                           ,ascending=False).head(20)"
      ],
      "execution_count": null,
      "outputs": [
        {
          "output_type": "execute_result",
          "data": {
            "text/html": [
              "<div>\n",
              "<style scoped>\n",
              "    .dataframe tbody tr th:only-of-type {\n",
              "        vertical-align: middle;\n",
              "    }\n",
              "\n",
              "    .dataframe tbody tr th {\n",
              "        vertical-align: top;\n",
              "    }\n",
              "\n",
              "    .dataframe thead th {\n",
              "        text-align: right;\n",
              "    }\n",
              "</style>\n",
              "<table border=\"1\" class=\"dataframe\">\n",
              "  <thead>\n",
              "    <tr style=\"text-align: right;\">\n",
              "      <th></th>\n",
              "      <th>feature</th>\n",
              "      <th>component_contribution</th>\n",
              "      <th>abs_component_contribution</th>\n",
              "    </tr>\n",
              "  </thead>\n",
              "  <tbody>\n",
              "    <tr>\n",
              "      <th>23</th>\n",
              "      <td>bps_rolling</td>\n",
              "      <td>0.262546</td>\n",
              "      <td>0.262546</td>\n",
              "    </tr>\n",
              "    <tr>\n",
              "      <th>25</th>\n",
              "      <td>influence_rolling</td>\n",
              "      <td>0.261580</td>\n",
              "      <td>0.261580</td>\n",
              "    </tr>\n",
              "    <tr>\n",
              "      <th>7</th>\n",
              "      <td>minutes_rolling</td>\n",
              "      <td>0.242480</td>\n",
              "      <td>0.242480</td>\n",
              "    </tr>\n",
              "    <tr>\n",
              "      <th>6</th>\n",
              "      <td>minutes_lag</td>\n",
              "      <td>0.228309</td>\n",
              "      <td>0.228309</td>\n",
              "    </tr>\n",
              "    <tr>\n",
              "      <th>22</th>\n",
              "      <td>bps_lag</td>\n",
              "      <td>0.227076</td>\n",
              "      <td>0.227076</td>\n",
              "    </tr>\n",
              "    <tr>\n",
              "      <th>24</th>\n",
              "      <td>influence_lag</td>\n",
              "      <td>0.221480</td>\n",
              "      <td>0.221480</td>\n",
              "    </tr>\n",
              "    <tr>\n",
              "      <th>1</th>\n",
              "      <td>points_lag_1</td>\n",
              "      <td>0.217917</td>\n",
              "      <td>0.217917</td>\n",
              "    </tr>\n",
              "    <tr>\n",
              "      <th>21</th>\n",
              "      <td>bonus_rolling</td>\n",
              "      <td>0.211269</td>\n",
              "      <td>0.211269</td>\n",
              "    </tr>\n",
              "    <tr>\n",
              "      <th>29</th>\n",
              "      <td>threat_rolling</td>\n",
              "      <td>0.204457</td>\n",
              "      <td>0.204457</td>\n",
              "    </tr>\n",
              "    <tr>\n",
              "      <th>27</th>\n",
              "      <td>creativity_rolling</td>\n",
              "      <td>0.199843</td>\n",
              "      <td>0.199843</td>\n",
              "    </tr>\n",
              "    <tr>\n",
              "      <th>13</th>\n",
              "      <td>clean_sheets_rolling</td>\n",
              "      <td>0.193134</td>\n",
              "      <td>0.193134</td>\n",
              "    </tr>\n",
              "    <tr>\n",
              "      <th>9</th>\n",
              "      <td>goals_scored_rolling</td>\n",
              "      <td>0.186531</td>\n",
              "      <td>0.186531</td>\n",
              "    </tr>\n",
              "    <tr>\n",
              "      <th>2</th>\n",
              "      <td>points_lag_2</td>\n",
              "      <td>0.180503</td>\n",
              "      <td>0.180503</td>\n",
              "    </tr>\n",
              "    <tr>\n",
              "      <th>15</th>\n",
              "      <td>goals_conceded_rolling</td>\n",
              "      <td>0.177575</td>\n",
              "      <td>0.177575</td>\n",
              "    </tr>\n",
              "    <tr>\n",
              "      <th>3</th>\n",
              "      <td>points_lag_3</td>\n",
              "      <td>0.176510</td>\n",
              "      <td>0.176510</td>\n",
              "    </tr>\n",
              "    <tr>\n",
              "      <th>4</th>\n",
              "      <td>points_lag_4</td>\n",
              "      <td>0.173891</td>\n",
              "      <td>0.173891</td>\n",
              "    </tr>\n",
              "    <tr>\n",
              "      <th>28</th>\n",
              "      <td>threat_lag</td>\n",
              "      <td>0.171030</td>\n",
              "      <td>0.171030</td>\n",
              "    </tr>\n",
              "    <tr>\n",
              "      <th>5</th>\n",
              "      <td>points_lag_5</td>\n",
              "      <td>0.169089</td>\n",
              "      <td>0.169089</td>\n",
              "    </tr>\n",
              "    <tr>\n",
              "      <th>26</th>\n",
              "      <td>creativity_lag</td>\n",
              "      <td>0.168767</td>\n",
              "      <td>0.168767</td>\n",
              "    </tr>\n",
              "    <tr>\n",
              "      <th>30</th>\n",
              "      <td>selected_lag</td>\n",
              "      <td>0.161470</td>\n",
              "      <td>0.161470</td>\n",
              "    </tr>\n",
              "  </tbody>\n",
              "</table>\n",
              "</div>"
            ],
            "text/plain": [
              "                   feature  component_contribution  abs_component_contribution\n",
              "23             bps_rolling                0.262546                    0.262546\n",
              "25       influence_rolling                0.261580                    0.261580\n",
              "7          minutes_rolling                0.242480                    0.242480\n",
              "6              minutes_lag                0.228309                    0.228309\n",
              "22                 bps_lag                0.227076                    0.227076\n",
              "24           influence_lag                0.221480                    0.221480\n",
              "1             points_lag_1                0.217917                    0.217917\n",
              "21           bonus_rolling                0.211269                    0.211269\n",
              "29          threat_rolling                0.204457                    0.204457\n",
              "27      creativity_rolling                0.199843                    0.199843\n",
              "13    clean_sheets_rolling                0.193134                    0.193134\n",
              "9     goals_scored_rolling                0.186531                    0.186531\n",
              "2             points_lag_2                0.180503                    0.180503\n",
              "15  goals_conceded_rolling                0.177575                    0.177575\n",
              "3             points_lag_3                0.176510                    0.176510\n",
              "4             points_lag_4                0.173891                    0.173891\n",
              "28              threat_lag                0.171030                    0.171030\n",
              "5             points_lag_5                0.169089                    0.169089\n",
              "26          creativity_lag                0.168767                    0.168767\n",
              "30            selected_lag                0.161470                    0.161470"
            ]
          },
          "metadata": {
            "tags": []
          },
          "execution_count": 10
        }
      ]
    },
    {
      "cell_type": "code",
      "metadata": {
        "colab": {
          "base_uri": "https://localhost:8080/",
          "height": 622
        },
        "id": "q9XYyXWZyMyn",
        "outputId": "4d307174-7edf-4ee3-e106-dfd6f702cdee"
      },
      "source": [
        "# Viewing top features to component 2\n",
        "component_2_df.sort_values(by=['abs_component_contribution']\n",
        "                           ,ascending=False).head(20)"
      ],
      "execution_count": null,
      "outputs": [
        {
          "output_type": "execute_result",
          "data": {
            "text/html": [
              "<div>\n",
              "<style scoped>\n",
              "    .dataframe tbody tr th:only-of-type {\n",
              "        vertical-align: middle;\n",
              "    }\n",
              "\n",
              "    .dataframe tbody tr th {\n",
              "        vertical-align: top;\n",
              "    }\n",
              "\n",
              "    .dataframe thead th {\n",
              "        text-align: right;\n",
              "    }\n",
              "</style>\n",
              "<table border=\"1\" class=\"dataframe\">\n",
              "  <thead>\n",
              "    <tr style=\"text-align: right;\">\n",
              "      <th></th>\n",
              "      <th>feature</th>\n",
              "      <th>component_contribution</th>\n",
              "      <th>abs_component_contribution</th>\n",
              "    </tr>\n",
              "  </thead>\n",
              "  <tbody>\n",
              "    <tr>\n",
              "      <th>17</th>\n",
              "      <td>saves_rolling</td>\n",
              "      <td>-0.462184</td>\n",
              "      <td>0.462184</td>\n",
              "    </tr>\n",
              "    <tr>\n",
              "      <th>16</th>\n",
              "      <td>saves_lag</td>\n",
              "      <td>-0.433875</td>\n",
              "      <td>0.433875</td>\n",
              "    </tr>\n",
              "    <tr>\n",
              "      <th>38</th>\n",
              "      <td>position_GKP</td>\n",
              "      <td>-0.346496</td>\n",
              "      <td>0.346496</td>\n",
              "    </tr>\n",
              "    <tr>\n",
              "      <th>29</th>\n",
              "      <td>threat_rolling</td>\n",
              "      <td>0.221657</td>\n",
              "      <td>0.221657</td>\n",
              "    </tr>\n",
              "    <tr>\n",
              "      <th>28</th>\n",
              "      <td>threat_lag</td>\n",
              "      <td>0.201709</td>\n",
              "      <td>0.201709</td>\n",
              "    </tr>\n",
              "    <tr>\n",
              "      <th>9</th>\n",
              "      <td>goals_scored_rolling</td>\n",
              "      <td>0.197445</td>\n",
              "      <td>0.197445</td>\n",
              "    </tr>\n",
              "    <tr>\n",
              "      <th>39</th>\n",
              "      <td>position_MID</td>\n",
              "      <td>0.177167</td>\n",
              "      <td>0.177167</td>\n",
              "    </tr>\n",
              "    <tr>\n",
              "      <th>15</th>\n",
              "      <td>goals_conceded_rolling</td>\n",
              "      <td>-0.166196</td>\n",
              "      <td>0.166196</td>\n",
              "    </tr>\n",
              "    <tr>\n",
              "      <th>11</th>\n",
              "      <td>assists_rolling</td>\n",
              "      <td>0.163056</td>\n",
              "      <td>0.163056</td>\n",
              "    </tr>\n",
              "    <tr>\n",
              "      <th>27</th>\n",
              "      <td>creativity_rolling</td>\n",
              "      <td>0.160408</td>\n",
              "      <td>0.160408</td>\n",
              "    </tr>\n",
              "    <tr>\n",
              "      <th>8</th>\n",
              "      <td>goals_scored_lag</td>\n",
              "      <td>0.158004</td>\n",
              "      <td>0.158004</td>\n",
              "    </tr>\n",
              "    <tr>\n",
              "      <th>7</th>\n",
              "      <td>minutes_rolling</td>\n",
              "      <td>-0.153375</td>\n",
              "      <td>0.153375</td>\n",
              "    </tr>\n",
              "    <tr>\n",
              "      <th>37</th>\n",
              "      <td>position_FWD</td>\n",
              "      <td>0.151840</td>\n",
              "      <td>0.151840</td>\n",
              "    </tr>\n",
              "    <tr>\n",
              "      <th>14</th>\n",
              "      <td>goals_conceded_lag</td>\n",
              "      <td>-0.150223</td>\n",
              "      <td>0.150223</td>\n",
              "    </tr>\n",
              "    <tr>\n",
              "      <th>26</th>\n",
              "      <td>creativity_lag</td>\n",
              "      <td>0.142143</td>\n",
              "      <td>0.142143</td>\n",
              "    </tr>\n",
              "    <tr>\n",
              "      <th>6</th>\n",
              "      <td>minutes_lag</td>\n",
              "      <td>-0.140947</td>\n",
              "      <td>0.140947</td>\n",
              "    </tr>\n",
              "    <tr>\n",
              "      <th>35</th>\n",
              "      <td>transfers_out_ratio_rolling</td>\n",
              "      <td>0.123977</td>\n",
              "      <td>0.123977</td>\n",
              "    </tr>\n",
              "    <tr>\n",
              "      <th>23</th>\n",
              "      <td>bps_rolling</td>\n",
              "      <td>-0.121364</td>\n",
              "      <td>0.121364</td>\n",
              "    </tr>\n",
              "    <tr>\n",
              "      <th>10</th>\n",
              "      <td>assists_lag</td>\n",
              "      <td>0.121199</td>\n",
              "      <td>0.121199</td>\n",
              "    </tr>\n",
              "    <tr>\n",
              "      <th>34</th>\n",
              "      <td>transfers_out_ratio_lag</td>\n",
              "      <td>0.112585</td>\n",
              "      <td>0.112585</td>\n",
              "    </tr>\n",
              "  </tbody>\n",
              "</table>\n",
              "</div>"
            ],
            "text/plain": [
              "                        feature  ...  abs_component_contribution\n",
              "17                saves_rolling  ...                    0.462184\n",
              "16                    saves_lag  ...                    0.433875\n",
              "38                 position_GKP  ...                    0.346496\n",
              "29               threat_rolling  ...                    0.221657\n",
              "28                   threat_lag  ...                    0.201709\n",
              "9          goals_scored_rolling  ...                    0.197445\n",
              "39                 position_MID  ...                    0.177167\n",
              "15       goals_conceded_rolling  ...                    0.166196\n",
              "11              assists_rolling  ...                    0.163056\n",
              "27           creativity_rolling  ...                    0.160408\n",
              "8              goals_scored_lag  ...                    0.158004\n",
              "7               minutes_rolling  ...                    0.153375\n",
              "37                 position_FWD  ...                    0.151840\n",
              "14           goals_conceded_lag  ...                    0.150223\n",
              "26               creativity_lag  ...                    0.142143\n",
              "6                   minutes_lag  ...                    0.140947\n",
              "35  transfers_out_ratio_rolling  ...                    0.123977\n",
              "23                  bps_rolling  ...                    0.121364\n",
              "10                  assists_lag  ...                    0.121199\n",
              "34      transfers_out_ratio_lag  ...                    0.112585\n",
              "\n",
              "[20 rows x 3 columns]"
            ]
          },
          "metadata": {
            "tags": []
          },
          "execution_count": 11
        }
      ]
    },
    {
      "cell_type": "markdown",
      "metadata": {
        "id": "ialFodrozwdd"
      },
      "source": [
        "## Finding the optimal number of components using cross validation"
      ]
    },
    {
      "cell_type": "code",
      "metadata": {
        "id": "TisO_vm1gZrh"
      },
      "source": [
        "# Identifying optimum components\n",
        "n_components = len(pca.components_)\n",
        "\n",
        "pc_components = range(1,n_components)\n",
        "cv_r2_mean_scores = []\n",
        "\n",
        "for i in pc_components:\n",
        "  model = LinearRegression()\n",
        "  R2_CV_scores = cross_val_score(model, X_train_pc[:,:i], Y_train_no_na, cv=10, \n",
        "                       n_jobs=-1)\n",
        "  cv_r2 = R2_CV_scores.mean()\n",
        "  cv_r2_mean_scores.append(cv_r2)"
      ],
      "execution_count": null,
      "outputs": []
    },
    {
      "cell_type": "code",
      "metadata": {
        "colab": {
          "base_uri": "https://localhost:8080/",
          "height": 518
        },
        "id": "F9JRGdQRnHbI",
        "outputId": "d5bd8793-2094-4cae-b05b-685086efbe9d"
      },
      "source": [
        "# Plotting CV performance by depth\n",
        "plt.figure(figsize=(10,8))\n",
        "plt.plot(pc_components,cv_r2_mean_scores)\n",
        "plt.title('Mean cross-validation score (R2) by number of components')\n",
        "plt.xlabel('Components included')\n",
        "plt.ylabel(\"Mean CV R2 score\")\n",
        "plt.show()"
      ],
      "execution_count": null,
      "outputs": [
        {
          "output_type": "display_data",
          "data": {
            "image/png": "[encoded data removed]",
            "text/plain": [
              "<Figure size 720x576 with 1 Axes>"
            ]
          },
          "metadata": {
            "tags": []
          }
        }
      ]
    },
    {
      "cell_type": "code",
      "metadata": {
        "colab": {
          "base_uri": "https://localhost:8080/"
        },
        "id": "9CXFqxgYnw-N",
        "outputId": "d1ac5f21-fda4-41d1-b3e5-3930169cc730"
      },
      "source": [
        "# Find tree depth where CV R2 is highest\n",
        "max_score = max(cv_r2_mean_scores)\n",
        "\n",
        "max_index = cv_r2_mean_scores.index(max_score)\n",
        "\n",
        "pc_components[max_index]"
      ],
      "execution_count": null,
      "outputs": [
        {
          "output_type": "execute_result",
          "data": {
            "text/plain": [
              "35"
            ]
          },
          "metadata": {
            "tags": []
          },
          "execution_count": 14
        }
      ]
    },
    {
      "cell_type": "markdown",
      "metadata": {
        "id": "uO55hqtPn_Tf"
      },
      "source": [
        "## Updating the model to include only 35 components"
      ]
    },
    {
      "cell_type": "code",
      "metadata": {
        "colab": {
          "base_uri": "https://localhost:8080/"
        },
        "id": "L99YEnCKoTz1",
        "outputId": "c7eb8684-801f-4861-af08-e1c93e86d064"
      },
      "source": [
        "# Training model on 35 components\n",
        "pcr = LinearRegression()\n",
        "pcr.fit(X_train_pc[:,:35],Y_train_no_na)"
      ],
      "execution_count": null,
      "outputs": [
        {
          "output_type": "execute_result",
          "data": {
            "text/plain": [
              "LinearRegression(copy_X=True, fit_intercept=True, n_jobs=None, normalize=False)"
            ]
          },
          "metadata": {
            "tags": []
          },
          "execution_count": 15
        }
      ]
    },
    {
      "cell_type": "code",
      "metadata": {
        "id": "Xh1PnC3Gz4__"
      },
      "source": [
        "# Predicting on test\n",
        "y_pred_pcr = pcr.predict(X_test_pc[:,:35])"
      ],
      "execution_count": null,
      "outputs": []
    },
    {
      "cell_type": "code",
      "metadata": {
        "colab": {
          "base_uri": "https://localhost:8080/"
        },
        "id": "XzRJ7WhYz7r6",
        "outputId": "c293e493-d996-4064-af89-32822794081f"
      },
      "source": [
        "# Checking min/max prediction\n",
        "min_pred = min(y_pred_pcr)\n",
        "max_pred = max(y_pred_pcr)\n",
        "print(\"Min prediction: {}\".format(min_pred))\n",
        "print(\"Max prediction: {}\".format(max_pred))"
      ],
      "execution_count": null,
      "outputs": [
        {
          "output_type": "stream",
          "text": [
            "Min prediction: -0.5101445379383533\n",
            "Max prediction: 7.256629367977657\n"
          ],
          "name": "stdout"
        }
      ]
    },
    {
      "cell_type": "code",
      "metadata": {
        "colab": {
          "base_uri": "https://localhost:8080/"
        },
        "id": "ee24daoOz-BN",
        "outputId": "663d2560-f673-40d4-8b8f-171c5d1beb4a"
      },
      "source": [
        "# Checking MSE\n",
        "mse = mean_squared_error(Y_test_no_na, y_pred_pcr)\n",
        "print(\"Test MSE: {}\".format(mse))"
      ],
      "execution_count": null,
      "outputs": [
        {
          "output_type": "stream",
          "text": [
            "Test MSE: 4.752181972401202\n"
          ],
          "name": "stdout"
        }
      ]
    },
    {
      "cell_type": "code",
      "metadata": {
        "colab": {
          "base_uri": "https://localhost:8080/"
        },
        "id": "ATr5xVj9wDm0",
        "outputId": "a34ef4da-51ae-4696-ee96-5e1293a772cb"
      },
      "source": [
        "# Checking R2\n",
        "r2 = r2_score(Y_test_no_na, y_pred_pcr)\n",
        "print(\"Test R2: {}\".format(r2))"
      ],
      "execution_count": null,
      "outputs": [
        {
          "output_type": "stream",
          "text": [
            "Test R2: 0.253536509118962\n"
          ],
          "name": "stdout"
        }
      ]
    }
  ]
}