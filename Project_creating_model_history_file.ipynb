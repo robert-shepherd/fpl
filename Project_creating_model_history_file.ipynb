{
  "nbformat": 4,
  "nbformat_minor": 0,
  "metadata": {
    "colab": {
      "name": "Project - creating model history file.ipynb",
      "provenance": [],
      "collapsed_sections": [],
      "toc_visible": true,
      "authorship_tag": "ABX9TyP578BNGpxM9jDSXMjXMEeL",
      "include_colab_link": true
    },
    "kernelspec": {
      "name": "python3",
      "display_name": "Python 3"
    }
  },
  "cells": [
    {
      "cell_type": "markdown",
      "metadata": {
        "id": "view-in-github",
        "colab_type": "text"
      },
      "source": [
        "<a href=\"https://colab.research.google.com/github/robert-shepherd/fpl/blob/main/Project_creating_model_history_file.ipynb\" target=\"_parent\"><img src=\"https://colab.research.google.com/assets/colab-badge.svg\" alt=\"Open In Colab\"/></a>"
      ]
    },
    {
      "cell_type": "markdown",
      "metadata": {
        "id": "GO2IRhjkbAOA"
      },
      "source": [
        "#Creating model history file\r\n",
        "\r\n",
        "\r\n",
        "---\r\n",
        "\r\n",
        "The purpose of this script is to combine data from previous FPL seasons (18/19 and 19/20) with the latest data available for this season (GW11 for 20/21).\r\n",
        "\r\n",
        "Data sources:\r\n",
        "* Latest season: FPL API\r\n",
        "* Historic seasons: User Github: https://github.com/vaastav/Fantasy-Premier-League\r\n",
        "\r\n",
        "Output:\r\n",
        "* Data is downloaded and subsequently saved to: https://raw.githubusercontent.com/robert-shepherd/fpl/main/fpl_combined_data.csv\r\n"
      ]
    },
    {
      "cell_type": "code",
      "metadata": {
        "id": "m7ZsYJytC4Xj"
      },
      "source": [
        "#Loading libraries\r\n",
        "import pandas as pd\r\n",
        "import requests\r\n",
        "from google.colab import files"
      ],
      "execution_count": 1,
      "outputs": []
    },
    {
      "cell_type": "markdown",
      "metadata": {
        "id": "3if4ILOVFH0R"
      },
      "source": [
        "## Reading in historical data from the API"
      ]
    },
    {
      "cell_type": "code",
      "metadata": {
        "colab": {
          "base_uri": "https://localhost:8080/"
        },
        "id": "4QRSl7yeC_U7",
        "outputId": "2d0144b8-d673-470f-c3b5-fa6fbd098fe1"
      },
      "source": [
        "#Import data from API\r\n",
        "url = 'https://fantasy.premierleague.com/api/bootstrap-static/'\r\n",
        "r = requests.get(url)\r\n",
        "json = r.json()\r\n",
        "json.keys()"
      ],
      "execution_count": 24,
      "outputs": [
        {
          "output_type": "execute_result",
          "data": {
            "text/plain": [
              "dict_keys(['events', 'game_settings', 'phases', 'teams', 'total_players', 'elements', 'element_stats', 'element_types'])"
            ]
          },
          "metadata": {
            "tags": []
          },
          "execution_count": 24
        }
      ]
    },
    {
      "cell_type": "code",
      "metadata": {
        "id": "5G9J-In9FkDw"
      },
      "source": [
        "#Create a dataframe of live elements\r\n",
        "elements_df = pd.DataFrame(json['elements'])"
      ],
      "execution_count": 25,
      "outputs": []
    },
    {
      "cell_type": "code",
      "metadata": {
        "id": "Qj_CXGRLFr_i"
      },
      "source": [
        "#Loop through history and create a file\r\n",
        "for x in elements_df.index :\r\n",
        "    element_id = elements_df.id[x]\r\n",
        "    url = f'https://fantasy.premierleague.com/api/element-summary/{element_id}/'\r\n",
        "    r = requests.get(url)\r\n",
        "    json = r.json()\r\n",
        "    json_history_df = pd.DataFrame(json['history'])\r\n",
        "    \r\n",
        "    if x == 0 :\r\n",
        "        all_history_df = json_history_df\r\n",
        "    else : \r\n",
        "        all_history_df = all_history_df.append(json_history_df)\r\n"
      ],
      "execution_count": 33,
      "outputs": []
    },
    {
      "cell_type": "code",
      "metadata": {
        "colab": {
          "base_uri": "https://localhost:8080/"
        },
        "id": "9gGygwHKHRgQ",
        "outputId": "575713b5-6986-4733-bfe6-b8e6319488ba"
      },
      "source": [
        "all_history_df.shape"
      ],
      "execution_count": 34,
      "outputs": [
        {
          "output_type": "execute_result",
          "data": {
            "text/plain": [
              "(6799, 31)"
            ]
          },
          "metadata": {
            "tags": []
          },
          "execution_count": 34
        }
      ]
    },
    {
      "cell_type": "code",
      "metadata": {
        "colab": {
          "base_uri": "https://localhost:8080/",
          "height": 309
        },
        "id": "VXSQM3HVH-7H",
        "outputId": "095326a3-f0e4-48bc-ea09-24ff7d23ddae"
      },
      "source": [
        "all_history_df.head()"
      ],
      "execution_count": 35,
      "outputs": [
        {
          "output_type": "execute_result",
          "data": {
            "text/html": [
              "<div>\n",
              "<style scoped>\n",
              "    .dataframe tbody tr th:only-of-type {\n",
              "        vertical-align: middle;\n",
              "    }\n",
              "\n",
              "    .dataframe tbody tr th {\n",
              "        vertical-align: top;\n",
              "    }\n",
              "\n",
              "    .dataframe thead th {\n",
              "        text-align: right;\n",
              "    }\n",
              "</style>\n",
              "<table border=\"1\" class=\"dataframe\">\n",
              "  <thead>\n",
              "    <tr style=\"text-align: right;\">\n",
              "      <th></th>\n",
              "      <th>element</th>\n",
              "      <th>fixture</th>\n",
              "      <th>opponent_team</th>\n",
              "      <th>total_points</th>\n",
              "      <th>was_home</th>\n",
              "      <th>kickoff_time</th>\n",
              "      <th>team_h_score</th>\n",
              "      <th>team_a_score</th>\n",
              "      <th>round</th>\n",
              "      <th>minutes</th>\n",
              "      <th>goals_scored</th>\n",
              "      <th>assists</th>\n",
              "      <th>clean_sheets</th>\n",
              "      <th>goals_conceded</th>\n",
              "      <th>own_goals</th>\n",
              "      <th>penalties_saved</th>\n",
              "      <th>penalties_missed</th>\n",
              "      <th>yellow_cards</th>\n",
              "      <th>red_cards</th>\n",
              "      <th>saves</th>\n",
              "      <th>bonus</th>\n",
              "      <th>bps</th>\n",
              "      <th>influence</th>\n",
              "      <th>creativity</th>\n",
              "      <th>threat</th>\n",
              "      <th>ict_index</th>\n",
              "      <th>value</th>\n",
              "      <th>transfers_balance</th>\n",
              "      <th>selected</th>\n",
              "      <th>transfers_in</th>\n",
              "      <th>transfers_out</th>\n",
              "    </tr>\n",
              "  </thead>\n",
              "  <tbody>\n",
              "    <tr>\n",
              "      <th>0</th>\n",
              "      <td>1</td>\n",
              "      <td>2</td>\n",
              "      <td>8</td>\n",
              "      <td>0</td>\n",
              "      <td>False</td>\n",
              "      <td>2020-09-12T11:30:00Z</td>\n",
              "      <td>0.0</td>\n",
              "      <td>3.0</td>\n",
              "      <td>1</td>\n",
              "      <td>0</td>\n",
              "      <td>0</td>\n",
              "      <td>0</td>\n",
              "      <td>0</td>\n",
              "      <td>0</td>\n",
              "      <td>0</td>\n",
              "      <td>0</td>\n",
              "      <td>0</td>\n",
              "      <td>0</td>\n",
              "      <td>0</td>\n",
              "      <td>0</td>\n",
              "      <td>0</td>\n",
              "      <td>0</td>\n",
              "      <td>0.0</td>\n",
              "      <td>0.0</td>\n",
              "      <td>0.0</td>\n",
              "      <td>0.0</td>\n",
              "      <td>70</td>\n",
              "      <td>0</td>\n",
              "      <td>76656</td>\n",
              "      <td>0</td>\n",
              "      <td>0</td>\n",
              "    </tr>\n",
              "    <tr>\n",
              "      <th>1</th>\n",
              "      <td>1</td>\n",
              "      <td>9</td>\n",
              "      <td>19</td>\n",
              "      <td>0</td>\n",
              "      <td>True</td>\n",
              "      <td>2020-09-19T19:00:00Z</td>\n",
              "      <td>2.0</td>\n",
              "      <td>1.0</td>\n",
              "      <td>2</td>\n",
              "      <td>0</td>\n",
              "      <td>0</td>\n",
              "      <td>0</td>\n",
              "      <td>0</td>\n",
              "      <td>0</td>\n",
              "      <td>0</td>\n",
              "      <td>0</td>\n",
              "      <td>0</td>\n",
              "      <td>0</td>\n",
              "      <td>0</td>\n",
              "      <td>0</td>\n",
              "      <td>0</td>\n",
              "      <td>0</td>\n",
              "      <td>0.0</td>\n",
              "      <td>0.0</td>\n",
              "      <td>0.0</td>\n",
              "      <td>0.0</td>\n",
              "      <td>69</td>\n",
              "      <td>-16828</td>\n",
              "      <td>68335</td>\n",
              "      <td>995</td>\n",
              "      <td>17823</td>\n",
              "    </tr>\n",
              "    <tr>\n",
              "      <th>2</th>\n",
              "      <td>1</td>\n",
              "      <td>23</td>\n",
              "      <td>11</td>\n",
              "      <td>0</td>\n",
              "      <td>False</td>\n",
              "      <td>2020-09-28T19:00:00Z</td>\n",
              "      <td>3.0</td>\n",
              "      <td>1.0</td>\n",
              "      <td>3</td>\n",
              "      <td>0</td>\n",
              "      <td>0</td>\n",
              "      <td>0</td>\n",
              "      <td>0</td>\n",
              "      <td>0</td>\n",
              "      <td>0</td>\n",
              "      <td>0</td>\n",
              "      <td>0</td>\n",
              "      <td>0</td>\n",
              "      <td>0</td>\n",
              "      <td>0</td>\n",
              "      <td>0</td>\n",
              "      <td>0</td>\n",
              "      <td>0.0</td>\n",
              "      <td>0.0</td>\n",
              "      <td>0.0</td>\n",
              "      <td>0.0</td>\n",
              "      <td>69</td>\n",
              "      <td>-11451</td>\n",
              "      <td>59793</td>\n",
              "      <td>675</td>\n",
              "      <td>12126</td>\n",
              "    </tr>\n",
              "    <tr>\n",
              "      <th>3</th>\n",
              "      <td>1</td>\n",
              "      <td>29</td>\n",
              "      <td>15</td>\n",
              "      <td>0</td>\n",
              "      <td>True</td>\n",
              "      <td>2020-10-04T13:00:00Z</td>\n",
              "      <td>2.0</td>\n",
              "      <td>1.0</td>\n",
              "      <td>4</td>\n",
              "      <td>0</td>\n",
              "      <td>0</td>\n",
              "      <td>0</td>\n",
              "      <td>0</td>\n",
              "      <td>0</td>\n",
              "      <td>0</td>\n",
              "      <td>0</td>\n",
              "      <td>0</td>\n",
              "      <td>0</td>\n",
              "      <td>0</td>\n",
              "      <td>0</td>\n",
              "      <td>0</td>\n",
              "      <td>0</td>\n",
              "      <td>0.0</td>\n",
              "      <td>0.0</td>\n",
              "      <td>0.0</td>\n",
              "      <td>0.0</td>\n",
              "      <td>68</td>\n",
              "      <td>-5324</td>\n",
              "      <td>56403</td>\n",
              "      <td>647</td>\n",
              "      <td>5971</td>\n",
              "    </tr>\n",
              "    <tr>\n",
              "      <th>4</th>\n",
              "      <td>1</td>\n",
              "      <td>44</td>\n",
              "      <td>12</td>\n",
              "      <td>0</td>\n",
              "      <td>False</td>\n",
              "      <td>2020-10-17T16:30:00Z</td>\n",
              "      <td>1.0</td>\n",
              "      <td>0.0</td>\n",
              "      <td>5</td>\n",
              "      <td>0</td>\n",
              "      <td>0</td>\n",
              "      <td>0</td>\n",
              "      <td>0</td>\n",
              "      <td>0</td>\n",
              "      <td>0</td>\n",
              "      <td>0</td>\n",
              "      <td>0</td>\n",
              "      <td>0</td>\n",
              "      <td>0</td>\n",
              "      <td>0</td>\n",
              "      <td>0</td>\n",
              "      <td>0</td>\n",
              "      <td>0.0</td>\n",
              "      <td>0.0</td>\n",
              "      <td>0.0</td>\n",
              "      <td>0.0</td>\n",
              "      <td>68</td>\n",
              "      <td>-4224</td>\n",
              "      <td>53689</td>\n",
              "      <td>616</td>\n",
              "      <td>4840</td>\n",
              "    </tr>\n",
              "  </tbody>\n",
              "</table>\n",
              "</div>"
            ],
            "text/plain": [
              "   element  fixture  opponent_team  ...  selected  transfers_in transfers_out\n",
              "0        1        2              8  ...     76656             0             0\n",
              "1        1        9             19  ...     68335           995         17823\n",
              "2        1       23             11  ...     59793           675         12126\n",
              "3        1       29             15  ...     56403           647          5971\n",
              "4        1       44             12  ...     53689           616          4840\n",
              "\n",
              "[5 rows x 31 columns]"
            ]
          },
          "metadata": {
            "tags": []
          },
          "execution_count": 35
        }
      ]
    },
    {
      "cell_type": "code",
      "metadata": {
        "colab": {
          "base_uri": "https://localhost:8080/"
        },
        "id": "ZBR-zoI3JYZJ",
        "outputId": "31cefc27-32ba-42fb-811e-1c7e88eaa49e"
      },
      "source": [
        "all_history_df.dtypes"
      ],
      "execution_count": 38,
      "outputs": [
        {
          "output_type": "execute_result",
          "data": {
            "text/plain": [
              "element                int64\n",
              "fixture                int64\n",
              "opponent_team          int64\n",
              "total_points           int64\n",
              "was_home                bool\n",
              "kickoff_time          object\n",
              "team_h_score         float64\n",
              "team_a_score         float64\n",
              "round                  int64\n",
              "minutes                int64\n",
              "goals_scored           int64\n",
              "assists                int64\n",
              "clean_sheets           int64\n",
              "goals_conceded         int64\n",
              "own_goals              int64\n",
              "penalties_saved        int64\n",
              "penalties_missed       int64\n",
              "yellow_cards           int64\n",
              "red_cards              int64\n",
              "saves                  int64\n",
              "bonus                  int64\n",
              "bps                    int64\n",
              "influence             object\n",
              "creativity            object\n",
              "threat                object\n",
              "ict_index             object\n",
              "value                  int64\n",
              "transfers_balance      int64\n",
              "selected               int64\n",
              "transfers_in           int64\n",
              "transfers_out          int64\n",
              "dtype: object"
            ]
          },
          "metadata": {
            "tags": []
          },
          "execution_count": 38
        }
      ]
    },
    {
      "cell_type": "markdown",
      "metadata": {
        "id": "p1hgVORzJeev"
      },
      "source": [
        "## Pulling in historic data"
      ]
    },
    {
      "cell_type": "code",
      "metadata": {
        "id": "uR8plikbM4Le"
      },
      "source": [
        "url_1819 = 'https://raw.githubusercontent.com/vaastav/Fantasy-Premier-League/master/data/2018-19/gws/merged_gw.csv'\r\n",
        "url_1920 = 'https://raw.githubusercontent.com/vaastav/Fantasy-Premier-League/master/data/2019-20/gws/merged_gw.csv'\r\n",
        "\r\n",
        "df_1819 = pd.read_csv(url_1819, encoding='latin-1')\r\n",
        "df_1920 = pd.read_csv(url_1920, encoding='latin-1')"
      ],
      "execution_count": 47,
      "outputs": []
    },
    {
      "cell_type": "markdown",
      "metadata": {
        "id": "OpF1biZda5mq"
      },
      "source": [
        ""
      ]
    },
    {
      "cell_type": "code",
      "metadata": {
        "colab": {
          "base_uri": "https://localhost:8080/",
          "height": 309
        },
        "id": "GGhLVeaXMnty",
        "outputId": "c69d3bc5-c71b-4b9a-be27-5522700df997"
      },
      "source": [
        "df_1819.head()"
      ],
      "execution_count": 48,
      "outputs": [
        {
          "output_type": "execute_result",
          "data": {
            "text/html": [
              "<div>\n",
              "<style scoped>\n",
              "    .dataframe tbody tr th:only-of-type {\n",
              "        vertical-align: middle;\n",
              "    }\n",
              "\n",
              "    .dataframe tbody tr th {\n",
              "        vertical-align: top;\n",
              "    }\n",
              "\n",
              "    .dataframe thead th {\n",
              "        text-align: right;\n",
              "    }\n",
              "</style>\n",
              "<table border=\"1\" class=\"dataframe\">\n",
              "  <thead>\n",
              "    <tr style=\"text-align: right;\">\n",
              "      <th></th>\n",
              "      <th>name</th>\n",
              "      <th>assists</th>\n",
              "      <th>attempted_passes</th>\n",
              "      <th>big_chances_created</th>\n",
              "      <th>big_chances_missed</th>\n",
              "      <th>bonus</th>\n",
              "      <th>bps</th>\n",
              "      <th>clean_sheets</th>\n",
              "      <th>clearances_blocks_interceptions</th>\n",
              "      <th>completed_passes</th>\n",
              "      <th>creativity</th>\n",
              "      <th>dribbles</th>\n",
              "      <th>ea_index</th>\n",
              "      <th>element</th>\n",
              "      <th>errors_leading_to_goal</th>\n",
              "      <th>errors_leading_to_goal_attempt</th>\n",
              "      <th>fixture</th>\n",
              "      <th>fouls</th>\n",
              "      <th>goals_conceded</th>\n",
              "      <th>goals_scored</th>\n",
              "      <th>ict_index</th>\n",
              "      <th>id</th>\n",
              "      <th>influence</th>\n",
              "      <th>key_passes</th>\n",
              "      <th>kickoff_time</th>\n",
              "      <th>kickoff_time_formatted</th>\n",
              "      <th>loaned_in</th>\n",
              "      <th>loaned_out</th>\n",
              "      <th>minutes</th>\n",
              "      <th>offside</th>\n",
              "      <th>open_play_crosses</th>\n",
              "      <th>opponent_team</th>\n",
              "      <th>own_goals</th>\n",
              "      <th>penalties_conceded</th>\n",
              "      <th>penalties_missed</th>\n",
              "      <th>penalties_saved</th>\n",
              "      <th>recoveries</th>\n",
              "      <th>red_cards</th>\n",
              "      <th>round</th>\n",
              "      <th>saves</th>\n",
              "      <th>selected</th>\n",
              "      <th>tackled</th>\n",
              "      <th>tackles</th>\n",
              "      <th>target_missed</th>\n",
              "      <th>team_a_score</th>\n",
              "      <th>team_h_score</th>\n",
              "      <th>threat</th>\n",
              "      <th>total_points</th>\n",
              "      <th>transfers_balance</th>\n",
              "      <th>transfers_in</th>\n",
              "      <th>transfers_out</th>\n",
              "      <th>value</th>\n",
              "      <th>was_home</th>\n",
              "      <th>winning_goals</th>\n",
              "      <th>yellow_cards</th>\n",
              "      <th>GW</th>\n",
              "    </tr>\n",
              "  </thead>\n",
              "  <tbody>\n",
              "    <tr>\n",
              "      <th>0</th>\n",
              "      <td>Aaron_Cresswell_402</td>\n",
              "      <td>0</td>\n",
              "      <td>0</td>\n",
              "      <td>0</td>\n",
              "      <td>0</td>\n",
              "      <td>0</td>\n",
              "      <td>0</td>\n",
              "      <td>0</td>\n",
              "      <td>0</td>\n",
              "      <td>0</td>\n",
              "      <td>0.0</td>\n",
              "      <td>0</td>\n",
              "      <td>0</td>\n",
              "      <td>402</td>\n",
              "      <td>0</td>\n",
              "      <td>0</td>\n",
              "      <td>5</td>\n",
              "      <td>0</td>\n",
              "      <td>0</td>\n",
              "      <td>0</td>\n",
              "      <td>0.0</td>\n",
              "      <td>402</td>\n",
              "      <td>0.0</td>\n",
              "      <td>0</td>\n",
              "      <td>2018-08-12T12:30:00Z</td>\n",
              "      <td>12 Aug 13:30</td>\n",
              "      <td>0</td>\n",
              "      <td>0</td>\n",
              "      <td>0</td>\n",
              "      <td>0</td>\n",
              "      <td>0</td>\n",
              "      <td>12</td>\n",
              "      <td>0</td>\n",
              "      <td>0</td>\n",
              "      <td>0</td>\n",
              "      <td>0</td>\n",
              "      <td>0</td>\n",
              "      <td>0</td>\n",
              "      <td>1</td>\n",
              "      <td>0</td>\n",
              "      <td>103396</td>\n",
              "      <td>0</td>\n",
              "      <td>0</td>\n",
              "      <td>0</td>\n",
              "      <td>0</td>\n",
              "      <td>4</td>\n",
              "      <td>0.0</td>\n",
              "      <td>0</td>\n",
              "      <td>0</td>\n",
              "      <td>0</td>\n",
              "      <td>0</td>\n",
              "      <td>55</td>\n",
              "      <td>False</td>\n",
              "      <td>0</td>\n",
              "      <td>0</td>\n",
              "      <td>1</td>\n",
              "    </tr>\n",
              "    <tr>\n",
              "      <th>1</th>\n",
              "      <td>Aaron_Lennon_83</td>\n",
              "      <td>0</td>\n",
              "      <td>22</td>\n",
              "      <td>0</td>\n",
              "      <td>1</td>\n",
              "      <td>0</td>\n",
              "      <td>6</td>\n",
              "      <td>1</td>\n",
              "      <td>1</td>\n",
              "      <td>17</td>\n",
              "      <td>12.3</td>\n",
              "      <td>0</td>\n",
              "      <td>0</td>\n",
              "      <td>83</td>\n",
              "      <td>0</td>\n",
              "      <td>0</td>\n",
              "      <td>8</td>\n",
              "      <td>1</td>\n",
              "      <td>0</td>\n",
              "      <td>0</td>\n",
              "      <td>3.9</td>\n",
              "      <td>83</td>\n",
              "      <td>10.0</td>\n",
              "      <td>0</td>\n",
              "      <td>2018-08-12T12:30:00Z</td>\n",
              "      <td>12 Aug 13:30</td>\n",
              "      <td>0</td>\n",
              "      <td>0</td>\n",
              "      <td>90</td>\n",
              "      <td>0</td>\n",
              "      <td>1</td>\n",
              "      <td>16</td>\n",
              "      <td>0</td>\n",
              "      <td>0</td>\n",
              "      <td>0</td>\n",
              "      <td>0</td>\n",
              "      <td>2</td>\n",
              "      <td>0</td>\n",
              "      <td>1</td>\n",
              "      <td>0</td>\n",
              "      <td>15138</td>\n",
              "      <td>1</td>\n",
              "      <td>2</td>\n",
              "      <td>0</td>\n",
              "      <td>0</td>\n",
              "      <td>0</td>\n",
              "      <td>17.0</td>\n",
              "      <td>3</td>\n",
              "      <td>0</td>\n",
              "      <td>0</td>\n",
              "      <td>0</td>\n",
              "      <td>50</td>\n",
              "      <td>False</td>\n",
              "      <td>0</td>\n",
              "      <td>0</td>\n",
              "      <td>1</td>\n",
              "    </tr>\n",
              "    <tr>\n",
              "      <th>2</th>\n",
              "      <td>Aaron_Mooy_199</td>\n",
              "      <td>0</td>\n",
              "      <td>51</td>\n",
              "      <td>0</td>\n",
              "      <td>0</td>\n",
              "      <td>0</td>\n",
              "      <td>24</td>\n",
              "      <td>0</td>\n",
              "      <td>2</td>\n",
              "      <td>40</td>\n",
              "      <td>18.2</td>\n",
              "      <td>1</td>\n",
              "      <td>0</td>\n",
              "      <td>199</td>\n",
              "      <td>0</td>\n",
              "      <td>0</td>\n",
              "      <td>4</td>\n",
              "      <td>1</td>\n",
              "      <td>3</td>\n",
              "      <td>0</td>\n",
              "      <td>3.8</td>\n",
              "      <td>199</td>\n",
              "      <td>20.2</td>\n",
              "      <td>1</td>\n",
              "      <td>2018-08-11T14:00:00Z</td>\n",
              "      <td>11 Aug 15:00</td>\n",
              "      <td>0</td>\n",
              "      <td>0</td>\n",
              "      <td>90</td>\n",
              "      <td>0</td>\n",
              "      <td>0</td>\n",
              "      <td>6</td>\n",
              "      <td>0</td>\n",
              "      <td>0</td>\n",
              "      <td>0</td>\n",
              "      <td>0</td>\n",
              "      <td>11</td>\n",
              "      <td>0</td>\n",
              "      <td>1</td>\n",
              "      <td>0</td>\n",
              "      <td>192110</td>\n",
              "      <td>1</td>\n",
              "      <td>6</td>\n",
              "      <td>0</td>\n",
              "      <td>3</td>\n",
              "      <td>0</td>\n",
              "      <td>0.0</td>\n",
              "      <td>2</td>\n",
              "      <td>0</td>\n",
              "      <td>0</td>\n",
              "      <td>0</td>\n",
              "      <td>55</td>\n",
              "      <td>True</td>\n",
              "      <td>0</td>\n",
              "      <td>0</td>\n",
              "      <td>1</td>\n",
              "    </tr>\n",
              "    <tr>\n",
              "      <th>3</th>\n",
              "      <td>Aaron_Ramsey_14</td>\n",
              "      <td>0</td>\n",
              "      <td>11</td>\n",
              "      <td>0</td>\n",
              "      <td>0</td>\n",
              "      <td>0</td>\n",
              "      <td>7</td>\n",
              "      <td>0</td>\n",
              "      <td>0</td>\n",
              "      <td>7</td>\n",
              "      <td>10.8</td>\n",
              "      <td>1</td>\n",
              "      <td>0</td>\n",
              "      <td>14</td>\n",
              "      <td>0</td>\n",
              "      <td>0</td>\n",
              "      <td>1</td>\n",
              "      <td>0</td>\n",
              "      <td>1</td>\n",
              "      <td>0</td>\n",
              "      <td>2.9</td>\n",
              "      <td>14</td>\n",
              "      <td>9.4</td>\n",
              "      <td>1</td>\n",
              "      <td>2018-08-12T15:00:00Z</td>\n",
              "      <td>12 Aug 16:00</td>\n",
              "      <td>0</td>\n",
              "      <td>0</td>\n",
              "      <td>53</td>\n",
              "      <td>2</td>\n",
              "      <td>0</td>\n",
              "      <td>13</td>\n",
              "      <td>0</td>\n",
              "      <td>0</td>\n",
              "      <td>0</td>\n",
              "      <td>0</td>\n",
              "      <td>1</td>\n",
              "      <td>0</td>\n",
              "      <td>1</td>\n",
              "      <td>0</td>\n",
              "      <td>60423</td>\n",
              "      <td>0</td>\n",
              "      <td>2</td>\n",
              "      <td>0</td>\n",
              "      <td>2</td>\n",
              "      <td>0</td>\n",
              "      <td>9.0</td>\n",
              "      <td>1</td>\n",
              "      <td>0</td>\n",
              "      <td>0</td>\n",
              "      <td>0</td>\n",
              "      <td>75</td>\n",
              "      <td>True</td>\n",
              "      <td>0</td>\n",
              "      <td>0</td>\n",
              "      <td>1</td>\n",
              "    </tr>\n",
              "    <tr>\n",
              "      <th>4</th>\n",
              "      <td>Aaron_Wan-Bissaka_145</td>\n",
              "      <td>1</td>\n",
              "      <td>29</td>\n",
              "      <td>1</td>\n",
              "      <td>0</td>\n",
              "      <td>3</td>\n",
              "      <td>38</td>\n",
              "      <td>1</td>\n",
              "      <td>11</td>\n",
              "      <td>19</td>\n",
              "      <td>14.0</td>\n",
              "      <td>2</td>\n",
              "      <td>0</td>\n",
              "      <td>145</td>\n",
              "      <td>0</td>\n",
              "      <td>0</td>\n",
              "      <td>3</td>\n",
              "      <td>0</td>\n",
              "      <td>0</td>\n",
              "      <td>0</td>\n",
              "      <td>6.0</td>\n",
              "      <td>145</td>\n",
              "      <td>46.0</td>\n",
              "      <td>1</td>\n",
              "      <td>2018-08-11T14:00:00Z</td>\n",
              "      <td>11 Aug 15:00</td>\n",
              "      <td>0</td>\n",
              "      <td>0</td>\n",
              "      <td>90</td>\n",
              "      <td>0</td>\n",
              "      <td>0</td>\n",
              "      <td>9</td>\n",
              "      <td>0</td>\n",
              "      <td>0</td>\n",
              "      <td>0</td>\n",
              "      <td>0</td>\n",
              "      <td>7</td>\n",
              "      <td>0</td>\n",
              "      <td>1</td>\n",
              "      <td>0</td>\n",
              "      <td>652304</td>\n",
              "      <td>2</td>\n",
              "      <td>0</td>\n",
              "      <td>0</td>\n",
              "      <td>2</td>\n",
              "      <td>0</td>\n",
              "      <td>0.0</td>\n",
              "      <td>12</td>\n",
              "      <td>0</td>\n",
              "      <td>0</td>\n",
              "      <td>0</td>\n",
              "      <td>40</td>\n",
              "      <td>False</td>\n",
              "      <td>0</td>\n",
              "      <td>0</td>\n",
              "      <td>1</td>\n",
              "    </tr>\n",
              "  </tbody>\n",
              "</table>\n",
              "</div>"
            ],
            "text/plain": [
              "                    name  assists  ...  yellow_cards  GW\n",
              "0    Aaron_Cresswell_402        0  ...             0   1\n",
              "1        Aaron_Lennon_83        0  ...             0   1\n",
              "2         Aaron_Mooy_199        0  ...             0   1\n",
              "3        Aaron_Ramsey_14        0  ...             0   1\n",
              "4  Aaron_Wan-Bissaka_145        1  ...             0   1\n",
              "\n",
              "[5 rows x 56 columns]"
            ]
          },
          "metadata": {
            "tags": []
          },
          "execution_count": 48
        }
      ]
    },
    {
      "cell_type": "code",
      "metadata": {
        "colab": {
          "base_uri": "https://localhost:8080/"
        },
        "id": "qBiF8hH9Nh_U",
        "outputId": "aeb7f985-39d2-4306-8565-9544e350e434"
      },
      "source": [
        "df_1819.dtypes"
      ],
      "execution_count": 49,
      "outputs": [
        {
          "output_type": "execute_result",
          "data": {
            "text/plain": [
              "name                                object\n",
              "assists                              int64\n",
              "attempted_passes                     int64\n",
              "big_chances_created                  int64\n",
              "big_chances_missed                   int64\n",
              "bonus                                int64\n",
              "bps                                  int64\n",
              "clean_sheets                         int64\n",
              "clearances_blocks_interceptions      int64\n",
              "completed_passes                     int64\n",
              "creativity                         float64\n",
              "dribbles                             int64\n",
              "ea_index                             int64\n",
              "element                              int64\n",
              "errors_leading_to_goal               int64\n",
              "errors_leading_to_goal_attempt       int64\n",
              "fixture                              int64\n",
              "fouls                                int64\n",
              "goals_conceded                       int64\n",
              "goals_scored                         int64\n",
              "ict_index                          float64\n",
              "id                                   int64\n",
              "influence                          float64\n",
              "key_passes                           int64\n",
              "kickoff_time                        object\n",
              "kickoff_time_formatted              object\n",
              "loaned_in                            int64\n",
              "loaned_out                           int64\n",
              "minutes                              int64\n",
              "offside                              int64\n",
              "open_play_crosses                    int64\n",
              "opponent_team                        int64\n",
              "own_goals                            int64\n",
              "penalties_conceded                   int64\n",
              "penalties_missed                     int64\n",
              "penalties_saved                      int64\n",
              "recoveries                           int64\n",
              "red_cards                            int64\n",
              "round                                int64\n",
              "saves                                int64\n",
              "selected                             int64\n",
              "tackled                              int64\n",
              "tackles                              int64\n",
              "target_missed                        int64\n",
              "team_a_score                         int64\n",
              "team_h_score                         int64\n",
              "threat                             float64\n",
              "total_points                         int64\n",
              "transfers_balance                    int64\n",
              "transfers_in                         int64\n",
              "transfers_out                        int64\n",
              "value                                int64\n",
              "was_home                              bool\n",
              "winning_goals                        int64\n",
              "yellow_cards                         int64\n",
              "GW                                   int64\n",
              "dtype: object"
            ]
          },
          "metadata": {
            "tags": []
          },
          "execution_count": 49
        }
      ]
    },
    {
      "cell_type": "markdown",
      "metadata": {
        "id": "XBI_3Q72N8ZZ"
      },
      "source": [
        "## Combining data sources"
      ]
    },
    {
      "cell_type": "code",
      "metadata": {
        "colab": {
          "base_uri": "https://localhost:8080/"
        },
        "id": "xuwvCXFuP_F3",
        "outputId": "cbf0ba70-6513-47a9-b28a-5fbd3d084ee9"
      },
      "source": [
        "#Filtering out latest week for current season\r\n",
        "df_2021 = all_history_df[all_history_df['round'] < 12].copy()\r\n",
        "max(df_2021['round'])"
      ],
      "execution_count": 78,
      "outputs": [
        {
          "output_type": "execute_result",
          "data": {
            "text/plain": [
              "11"
            ]
          },
          "metadata": {
            "tags": []
          },
          "execution_count": 78
        }
      ]
    },
    {
      "cell_type": "code",
      "metadata": {
        "colab": {
          "base_uri": "https://localhost:8080/"
        },
        "id": "NLjEKj9xQmFP",
        "outputId": "9ae228ab-c9f7-454b-b844-6606915b7aae"
      },
      "source": [
        "#Retrieving column names from latest season\r\n",
        "names = df_2021.columns\r\n",
        "names"
      ],
      "execution_count": 79,
      "outputs": [
        {
          "output_type": "execute_result",
          "data": {
            "text/plain": [
              "Index(['element', 'fixture', 'opponent_team', 'total_points', 'was_home',\n",
              "       'kickoff_time', 'team_h_score', 'team_a_score', 'round', 'minutes',\n",
              "       'goals_scored', 'assists', 'clean_sheets', 'goals_conceded',\n",
              "       'own_goals', 'penalties_saved', 'penalties_missed', 'yellow_cards',\n",
              "       'red_cards', 'saves', 'bonus', 'bps', 'influence', 'creativity',\n",
              "       'threat', 'ict_index', 'value', 'transfers_balance', 'selected',\n",
              "       'transfers_in', 'transfers_out'],\n",
              "      dtype='object')"
            ]
          },
          "metadata": {
            "tags": []
          },
          "execution_count": 79
        }
      ]
    },
    {
      "cell_type": "code",
      "metadata": {
        "id": "dHk2A_zCRQui"
      },
      "source": [
        "#Filtering historic data to just columns available in latest data\r\n",
        "df_1819_filtered = df_1819[names].copy()\r\n",
        "df_1920_filtered = df_1920[names].copy()"
      ],
      "execution_count": 80,
      "outputs": []
    },
    {
      "cell_type": "code",
      "metadata": {
        "id": "lh1wSXh3Rg0i"
      },
      "source": [
        "#Adding season labels\r\n",
        "df_1819_filtered['season'] = 2018\r\n",
        "df_1920_filtered['season'] = 2019\r\n",
        "df_2021['season'] = 2020"
      ],
      "execution_count": 81,
      "outputs": []
    },
    {
      "cell_type": "code",
      "metadata": {
        "colab": {
          "base_uri": "https://localhost:8080/"
        },
        "id": "2kD-vCj5SSL-",
        "outputId": "f31227c7-2497-4304-9302-a0fdc50f9f4d"
      },
      "source": [
        "#Casting latest season influence, creativity, threat and ict_index to float\r\n",
        "df_2021['influence'] = df_2021['influence'].astype(float)\r\n",
        "df_2021['creativity'] = df_2021['creativity'].astype(float)\r\n",
        "df_2021['threat'] = df_2021['threat'].astype(float)\r\n",
        "df_2021['ict_index'] = df_2021['ict_index'].astype(float)\r\n",
        "df_2021.dtypes"
      ],
      "execution_count": 95,
      "outputs": [
        {
          "output_type": "execute_result",
          "data": {
            "text/plain": [
              "element                int64\n",
              "fixture                int64\n",
              "opponent_team          int64\n",
              "total_points           int64\n",
              "was_home                bool\n",
              "kickoff_time          object\n",
              "team_h_score         float64\n",
              "team_a_score         float64\n",
              "round                  int64\n",
              "minutes                int64\n",
              "goals_scored           int64\n",
              "assists                int64\n",
              "clean_sheets           int64\n",
              "goals_conceded         int64\n",
              "own_goals              int64\n",
              "penalties_saved        int64\n",
              "penalties_missed       int64\n",
              "yellow_cards           int64\n",
              "red_cards              int64\n",
              "saves                  int64\n",
              "bonus                  int64\n",
              "bps                    int64\n",
              "influence            float64\n",
              "creativity           float64\n",
              "threat               float64\n",
              "ict_index            float64\n",
              "value                  int64\n",
              "transfers_balance      int64\n",
              "selected               int64\n",
              "transfers_in           int64\n",
              "transfers_out          int64\n",
              "season                 int64\n",
              "dtype: object"
            ]
          },
          "metadata": {
            "tags": []
          },
          "execution_count": 95
        }
      ]
    },
    {
      "cell_type": "code",
      "metadata": {
        "id": "SP9ih38JUs2Q"
      },
      "source": [
        "#Combining datasets\r\n",
        "combined_df = pd.concat([df_1819_filtered, df_1920_filtered, df_2021]).copy()"
      ],
      "execution_count": 101,
      "outputs": []
    },
    {
      "cell_type": "markdown",
      "metadata": {
        "id": "j6HU1dqRVxTI"
      },
      "source": [
        "## Checking new dataset before outputting"
      ]
    },
    {
      "cell_type": "code",
      "metadata": {
        "colab": {
          "base_uri": "https://localhost:8080/",
          "height": 309
        },
        "id": "SmYCQKOGVk7Q",
        "outputId": "126ef8cc-04a1-46ca-e989-65d9b383c8e0"
      },
      "source": [
        "#Checking new dataset\r\n",
        "combined_df.head()"
      ],
      "execution_count": 107,
      "outputs": [
        {
          "output_type": "execute_result",
          "data": {
            "text/html": [
              "<div>\n",
              "<style scoped>\n",
              "    .dataframe tbody tr th:only-of-type {\n",
              "        vertical-align: middle;\n",
              "    }\n",
              "\n",
              "    .dataframe tbody tr th {\n",
              "        vertical-align: top;\n",
              "    }\n",
              "\n",
              "    .dataframe thead th {\n",
              "        text-align: right;\n",
              "    }\n",
              "</style>\n",
              "<table border=\"1\" class=\"dataframe\">\n",
              "  <thead>\n",
              "    <tr style=\"text-align: right;\">\n",
              "      <th></th>\n",
              "      <th>element</th>\n",
              "      <th>fixture</th>\n",
              "      <th>opponent_team</th>\n",
              "      <th>total_points</th>\n",
              "      <th>was_home</th>\n",
              "      <th>kickoff_time</th>\n",
              "      <th>team_h_score</th>\n",
              "      <th>team_a_score</th>\n",
              "      <th>round</th>\n",
              "      <th>minutes</th>\n",
              "      <th>goals_scored</th>\n",
              "      <th>assists</th>\n",
              "      <th>clean_sheets</th>\n",
              "      <th>goals_conceded</th>\n",
              "      <th>own_goals</th>\n",
              "      <th>penalties_saved</th>\n",
              "      <th>penalties_missed</th>\n",
              "      <th>yellow_cards</th>\n",
              "      <th>red_cards</th>\n",
              "      <th>saves</th>\n",
              "      <th>bonus</th>\n",
              "      <th>bps</th>\n",
              "      <th>influence</th>\n",
              "      <th>creativity</th>\n",
              "      <th>threat</th>\n",
              "      <th>ict_index</th>\n",
              "      <th>value</th>\n",
              "      <th>transfers_balance</th>\n",
              "      <th>selected</th>\n",
              "      <th>transfers_in</th>\n",
              "      <th>transfers_out</th>\n",
              "      <th>season</th>\n",
              "    </tr>\n",
              "  </thead>\n",
              "  <tbody>\n",
              "    <tr>\n",
              "      <th>0</th>\n",
              "      <td>402</td>\n",
              "      <td>5</td>\n",
              "      <td>12</td>\n",
              "      <td>0</td>\n",
              "      <td>False</td>\n",
              "      <td>2018-08-12T12:30:00Z</td>\n",
              "      <td>4.0</td>\n",
              "      <td>0.0</td>\n",
              "      <td>1</td>\n",
              "      <td>0</td>\n",
              "      <td>0</td>\n",
              "      <td>0</td>\n",
              "      <td>0</td>\n",
              "      <td>0</td>\n",
              "      <td>0</td>\n",
              "      <td>0</td>\n",
              "      <td>0</td>\n",
              "      <td>0</td>\n",
              "      <td>0</td>\n",
              "      <td>0</td>\n",
              "      <td>0</td>\n",
              "      <td>0</td>\n",
              "      <td>0.0</td>\n",
              "      <td>0.0</td>\n",
              "      <td>0.0</td>\n",
              "      <td>0.0</td>\n",
              "      <td>55</td>\n",
              "      <td>0</td>\n",
              "      <td>103396</td>\n",
              "      <td>0</td>\n",
              "      <td>0</td>\n",
              "      <td>2018</td>\n",
              "    </tr>\n",
              "    <tr>\n",
              "      <th>1</th>\n",
              "      <td>83</td>\n",
              "      <td>8</td>\n",
              "      <td>16</td>\n",
              "      <td>3</td>\n",
              "      <td>False</td>\n",
              "      <td>2018-08-12T12:30:00Z</td>\n",
              "      <td>0.0</td>\n",
              "      <td>0.0</td>\n",
              "      <td>1</td>\n",
              "      <td>90</td>\n",
              "      <td>0</td>\n",
              "      <td>0</td>\n",
              "      <td>1</td>\n",
              "      <td>0</td>\n",
              "      <td>0</td>\n",
              "      <td>0</td>\n",
              "      <td>0</td>\n",
              "      <td>0</td>\n",
              "      <td>0</td>\n",
              "      <td>0</td>\n",
              "      <td>0</td>\n",
              "      <td>6</td>\n",
              "      <td>10.0</td>\n",
              "      <td>12.3</td>\n",
              "      <td>17.0</td>\n",
              "      <td>3.9</td>\n",
              "      <td>50</td>\n",
              "      <td>0</td>\n",
              "      <td>15138</td>\n",
              "      <td>0</td>\n",
              "      <td>0</td>\n",
              "      <td>2018</td>\n",
              "    </tr>\n",
              "    <tr>\n",
              "      <th>2</th>\n",
              "      <td>199</td>\n",
              "      <td>4</td>\n",
              "      <td>6</td>\n",
              "      <td>2</td>\n",
              "      <td>True</td>\n",
              "      <td>2018-08-11T14:00:00Z</td>\n",
              "      <td>0.0</td>\n",
              "      <td>3.0</td>\n",
              "      <td>1</td>\n",
              "      <td>90</td>\n",
              "      <td>0</td>\n",
              "      <td>0</td>\n",
              "      <td>0</td>\n",
              "      <td>3</td>\n",
              "      <td>0</td>\n",
              "      <td>0</td>\n",
              "      <td>0</td>\n",
              "      <td>0</td>\n",
              "      <td>0</td>\n",
              "      <td>0</td>\n",
              "      <td>0</td>\n",
              "      <td>24</td>\n",
              "      <td>20.2</td>\n",
              "      <td>18.2</td>\n",
              "      <td>0.0</td>\n",
              "      <td>3.8</td>\n",
              "      <td>55</td>\n",
              "      <td>0</td>\n",
              "      <td>192110</td>\n",
              "      <td>0</td>\n",
              "      <td>0</td>\n",
              "      <td>2018</td>\n",
              "    </tr>\n",
              "    <tr>\n",
              "      <th>3</th>\n",
              "      <td>14</td>\n",
              "      <td>1</td>\n",
              "      <td>13</td>\n",
              "      <td>1</td>\n",
              "      <td>True</td>\n",
              "      <td>2018-08-12T15:00:00Z</td>\n",
              "      <td>0.0</td>\n",
              "      <td>2.0</td>\n",
              "      <td>1</td>\n",
              "      <td>53</td>\n",
              "      <td>0</td>\n",
              "      <td>0</td>\n",
              "      <td>0</td>\n",
              "      <td>1</td>\n",
              "      <td>0</td>\n",
              "      <td>0</td>\n",
              "      <td>0</td>\n",
              "      <td>0</td>\n",
              "      <td>0</td>\n",
              "      <td>0</td>\n",
              "      <td>0</td>\n",
              "      <td>7</td>\n",
              "      <td>9.4</td>\n",
              "      <td>10.8</td>\n",
              "      <td>9.0</td>\n",
              "      <td>2.9</td>\n",
              "      <td>75</td>\n",
              "      <td>0</td>\n",
              "      <td>60423</td>\n",
              "      <td>0</td>\n",
              "      <td>0</td>\n",
              "      <td>2018</td>\n",
              "    </tr>\n",
              "    <tr>\n",
              "      <th>4</th>\n",
              "      <td>145</td>\n",
              "      <td>3</td>\n",
              "      <td>9</td>\n",
              "      <td>12</td>\n",
              "      <td>False</td>\n",
              "      <td>2018-08-11T14:00:00Z</td>\n",
              "      <td>0.0</td>\n",
              "      <td>2.0</td>\n",
              "      <td>1</td>\n",
              "      <td>90</td>\n",
              "      <td>0</td>\n",
              "      <td>1</td>\n",
              "      <td>1</td>\n",
              "      <td>0</td>\n",
              "      <td>0</td>\n",
              "      <td>0</td>\n",
              "      <td>0</td>\n",
              "      <td>0</td>\n",
              "      <td>0</td>\n",
              "      <td>0</td>\n",
              "      <td>3</td>\n",
              "      <td>38</td>\n",
              "      <td>46.0</td>\n",
              "      <td>14.0</td>\n",
              "      <td>0.0</td>\n",
              "      <td>6.0</td>\n",
              "      <td>40</td>\n",
              "      <td>0</td>\n",
              "      <td>652304</td>\n",
              "      <td>0</td>\n",
              "      <td>0</td>\n",
              "      <td>2018</td>\n",
              "    </tr>\n",
              "  </tbody>\n",
              "</table>\n",
              "</div>"
            ],
            "text/plain": [
              "   element  fixture  opponent_team  ...  transfers_in  transfers_out season\n",
              "0      402        5             12  ...             0              0   2018\n",
              "1       83        8             16  ...             0              0   2018\n",
              "2      199        4              6  ...             0              0   2018\n",
              "3       14        1             13  ...             0              0   2018\n",
              "4      145        3              9  ...             0              0   2018\n",
              "\n",
              "[5 rows x 32 columns]"
            ]
          },
          "metadata": {
            "tags": []
          },
          "execution_count": 107
        }
      ]
    },
    {
      "cell_type": "code",
      "metadata": {
        "colab": {
          "base_uri": "https://localhost:8080/"
        },
        "id": "tJIT46FGVp7P",
        "outputId": "a3b39088-1301-4f9d-b3a9-4853dbee9cc8"
      },
      "source": [
        "#Checking new dataset\r\n",
        "\r\n",
        "combined_df.dtypes"
      ],
      "execution_count": 108,
      "outputs": [
        {
          "output_type": "execute_result",
          "data": {
            "text/plain": [
              "element                int64\n",
              "fixture                int64\n",
              "opponent_team          int64\n",
              "total_points           int64\n",
              "was_home                bool\n",
              "kickoff_time          object\n",
              "team_h_score         float64\n",
              "team_a_score         float64\n",
              "round                  int64\n",
              "minutes                int64\n",
              "goals_scored           int64\n",
              "assists                int64\n",
              "clean_sheets           int64\n",
              "goals_conceded         int64\n",
              "own_goals              int64\n",
              "penalties_saved        int64\n",
              "penalties_missed       int64\n",
              "yellow_cards           int64\n",
              "red_cards              int64\n",
              "saves                  int64\n",
              "bonus                  int64\n",
              "bps                    int64\n",
              "influence            float64\n",
              "creativity           float64\n",
              "threat               float64\n",
              "ict_index            float64\n",
              "value                  int64\n",
              "transfers_balance      int64\n",
              "selected               int64\n",
              "transfers_in           int64\n",
              "transfers_out          int64\n",
              "season                 int64\n",
              "dtype: object"
            ]
          },
          "metadata": {
            "tags": []
          },
          "execution_count": 108
        }
      ]
    },
    {
      "cell_type": "code",
      "metadata": {
        "colab": {
          "base_uri": "https://localhost:8080/",
          "height": 17
        },
        "id": "9olDbJOKV3vg",
        "outputId": "8e34b543-e2fa-4f24-c894-67c39a19f819"
      },
      "source": [
        "#Downloading dataset\r\n",
        "combined_df.to_csv('fpl_combined_data.csv') \r\n",
        "files.download('fpl_combined_data.csv')"
      ],
      "execution_count": 112,
      "outputs": [
        {
          "output_type": "display_data",
          "data": {
            "application/javascript": [
              "\n",
              "    async function download(id, filename, size) {\n",
              "      if (!google.colab.kernel.accessAllowed) {\n",
              "        return;\n",
              "      }\n",
              "      const div = document.createElement('div');\n",
              "      const label = document.createElement('label');\n",
              "      label.textContent = `Downloading \"${filename}\": `;\n",
              "      div.appendChild(label);\n",
              "      const progress = document.createElement('progress');\n",
              "      progress.max = size;\n",
              "      div.appendChild(progress);\n",
              "      document.body.appendChild(div);\n",
              "\n",
              "      const buffers = [];\n",
              "      let downloaded = 0;\n",
              "\n",
              "      const channel = await google.colab.kernel.comms.open(id);\n",
              "      // Send a message to notify the kernel that we're ready.\n",
              "      channel.send({})\n",
              "\n",
              "      for await (const message of channel.messages) {\n",
              "        // Send a message to notify the kernel that we're ready.\n",
              "        channel.send({})\n",
              "        if (message.buffers) {\n",
              "          for (const buffer of message.buffers) {\n",
              "            buffers.push(buffer);\n",
              "            downloaded += buffer.byteLength;\n",
              "            progress.value = downloaded;\n",
              "          }\n",
              "        }\n",
              "      }\n",
              "      const blob = new Blob(buffers, {type: 'application/binary'});\n",
              "      const a = document.createElement('a');\n",
              "      a.href = window.URL.createObjectURL(blob);\n",
              "      a.download = filename;\n",
              "      div.appendChild(a);\n",
              "      a.click();\n",
              "      div.remove();\n",
              "    }\n",
              "  "
            ],
            "text/plain": [
              "<IPython.core.display.Javascript object>"
            ]
          },
          "metadata": {
            "tags": []
          }
        },
        {
          "output_type": "display_data",
          "data": {
            "application/javascript": [
              "download(\"download_91f9e76f-8909-4471-bf9b-f7e6a046ed16\", \"fpl_combined_data.csv\", 6336834)"
            ],
            "text/plain": [
              "<IPython.core.display.Javascript object>"
            ]
          },
          "metadata": {
            "tags": []
          }
        }
      ]
    }
  ]
}